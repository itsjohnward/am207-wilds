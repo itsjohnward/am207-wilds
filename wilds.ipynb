{
 "cells": [
  {
   "cell_type": "markdown",
   "metadata": {
    "cell_id": "00000-af0540d7-68c3-42dd-b2e2-aebb2b681397",
    "deepnote_cell_type": "markdown",
    "tags": []
   },
   "source": [
    "# A Review of [WILDS: A Benchmark of in-the-Wild Distribution Shifts](https://arxiv.org/pdf/2012.07421.pdf)"
   ]
  },
  {
   "cell_type": "code",
   "execution_count": 2,
   "metadata": {
    "cell_id": "00001-d7fbd11f-1695-4297-8115-258c4172060c",
    "deepnote_cell_type": "code",
    "deepnote_to_be_reexecuted": false,
    "execution_millis": 55,
    "execution_start": 1636243193738,
    "source_hash": "43479b7e",
    "tags": []
   },
   "outputs": [
    {
     "name": "stdout",
     "output_type": "stream",
     "text": [
      "Downloading dataset to data/iwildcam_v2.0...\n",
      "You can also download the dataset manually at https://wilds.stanford.edu/downloads.\n",
      "Downloading https://worksheets.codalab.org/rest/bundles/0x6313da2b204647e79a14b468131fcd64/contents/blob/ to data/iwildcam_v2.0/archive.tar.gz\n"
     ]
    },
    {
     "name": "stderr",
     "output_type": "stream",
     "text": [
      "100%|██████████| 11957420032/11957420032 [25:26<00:00, 7831723.13Byte/s]\n"
     ]
    },
    {
     "name": "stdout",
     "output_type": "stream",
     "text": [
      "Extracting data/iwildcam_v2.0/archive.tar.gz to data/iwildcam_v2.0\n",
      "It took 29.16 minutes to download and uncompress the dataset.\n"
     ]
    }
   ],
   "source": [
    "from wilds import get_dataset\n",
    "from wilds.common.data_loaders import get_train_loader\n",
    "import torchvision.transforms as transforms\n",
    "\n",
    "# Load the full dataset, and download it if necessary\n",
    "dataset = get_dataset(dataset='iwildcam', download=True)\n",
    "\n",
    "# Get the training set\n",
    "train_data = dataset.get_subset('train',\n",
    "                                transform=transforms.Compose([transforms.Resize((448,448)),\n",
    "                                                              transforms.ToTensor()]))\n",
    "\n",
    "# Prepare the standard data loader\n",
    "train_loader = get_train_loader('standard', train_data, batch_size=16)"
   ]
  },
  {
   "cell_type": "code",
   "execution_count": 2,
   "metadata": {},
   "outputs": [
    {
     "name": "stdout",
     "output_type": "stream",
     "text": [
      "Dataset: iwildcam\n",
      "Algorithm: ERM\n",
      "Root dir: data\n",
      "Split scheme: official\n",
      "Dataset kwargs: {}\n",
      "Download: False\n",
      "Frac: 0.001\n",
      "Version: None\n",
      "Loader kwargs: {'num_workers': 4, 'pin_memory': True}\n",
      "Train loader: standard\n",
      "Uniform over groups: False\n",
      "Distinct groups: None\n",
      "N groups per batch: 2\n",
      "Batch size: 16\n",
      "Eval loader: standard\n",
      "Model: resnet50\n",
      "Model kwargs: {'pretrained': True}\n",
      "Transform: image_base\n",
      "Target resolution: (448, 448)\n",
      "Resize scale: None\n",
      "Max token length: None\n",
      "Loss function: cross_entropy\n",
      "Loss kwargs: {}\n",
      "Groupby fields: ['location']\n",
      "Group dro step size: None\n",
      "Coral penalty weight: 10.0\n",
      "Irm lambda: 1.0\n",
      "Irm penalty anneal iters: None\n",
      "Algo log metric: accuracy\n",
      "Val metric: F1-macro_all\n",
      "Val metric decreasing: False\n",
      "N epochs: 1\n",
      "Optimizer: Adam\n",
      "Lr: 3e-05\n",
      "Weight decay: 0.0\n",
      "Max grad norm: None\n",
      "Optimizer kwargs: {}\n",
      "Scheduler: None\n",
      "Scheduler kwargs: {}\n",
      "Scheduler metric split: val\n",
      "Scheduler metric name: None\n",
      "Process outputs function: multiclass_logits_to_pred\n",
      "Evaluate all splits: True\n",
      "Eval splits: []\n",
      "Eval only: False\n",
      "Eval epoch: None\n",
      "Device: cpu\n",
      "Seed: 0\n",
      "Log dir: ./logs\n",
      "Log every: 50\n",
      "Save step: None\n",
      "Save best: True\n",
      "Save last: True\n",
      "Save pred: True\n",
      "No group logging: True\n",
      "Use wandb: False\n",
      "Progress bar: True\n",
      "Resume: False\n",
      "\n",
      "Train data...\n",
      "    n = 130\n",
      "Validation (OOD/Trans) data...\n",
      "    n = 15\n",
      "Test (OOD/Trans) data...\n",
      "    n = 43\n",
      "Validation (ID/Cis) data...\n",
      "    n = 7\n",
      "Test (ID/Cis) data...\n",
      "    n = 8\n",
      "\n",
      "Epoch [0]:\n",
      "\n",
      "Train:\n",
      "100%|█████████████████████████████████████████████| 9/9 [04:50<00:00, 32.26s/it]\n",
      "objective: 4.742\n",
      "loss_avg: 4.742\n",
      "acc_avg: 0.238\n",
      "\n",
      "Epoch eval:\n",
      "Average acc: 0.238\n",
      "Recall macro: 0.018\n",
      "F1 macro: 0.019\n",
      "\n",
      "Validation (OOD/Trans):\n",
      "100%|█████████████████████████████████████████████| 1/1 [00:18<00:00, 18.51s/it]\n",
      "objective: 4.988\n",
      "loss_avg: 4.988\n",
      "acc_avg: 0.067\n",
      "\n",
      "Epoch eval:\n",
      "Average acc: 0.067\n",
      "Recall macro: 0.083\n",
      "F1 macro: 0.033\n",
      "Validation F1-macro_all: 0.033\n",
      "Epoch 0 has the best validation performance so far.\n",
      "100%|█████████████████████████████████████████████| 3/3 [00:37<00:00, 12.34s/it]\n",
      "100%|█████████████████████████████████████████████| 1/1 [00:11<00:00, 11.59s/it]\n",
      "100%|█████████████████████████████████████████████| 1/1 [00:11<00:00, 11.88s/it]\n",
      "\n"
     ]
    }
   ],
   "source": [
    "!python ~/wilds/examples/run_expt.py --dataset iwildcam --algorithm ERM --root_dir data --progress_bar --frac 0.001 --n_epochs 1"
   ]
  },
  {
   "cell_type": "code",
   "execution_count": 17,
   "metadata": {},
   "outputs": [
    {
     "data": {
      "text/plain": [
       "[]"
      ]
     },
     "execution_count": 17,
     "metadata": {},
     "output_type": "execute_result"
    },
    {
     "data": {
      "image/png": "[encoded data removed]",
      "text/plain": [
       "<Figure size 576x432 with 1 Axes>"
      ]
     },
     "metadata": {
      "needs_background": "light"
     },
     "output_type": "display_data"
    }
   ],
   "source": [
    "import numpy as np\n",
    "from scipy.stats import norm\n",
    "import matplotlib.pyplot as plt\n",
    "\n",
    "loc1, scale1, size1 = (-2, 1, 175)\n",
    "loc2, scale2, size2 = (2, 0.2, 50)\n",
    "\n",
    "x2 = np.concatenate([np.random.normal(loc=loc1, scale=scale1, size=size1),\n",
    "                     np.random.normal(loc=loc2, scale=scale2, size=size2)])\n",
    "x_eval = np.linspace(x2.min() - 1, x2.max() + 1, 500)\n",
    "X_train = x_eval[:375]\n",
    "X_test = x_eval[375:]\n",
    "\n",
    "bimodal_pdf = (norm.pdf(x_eval, loc=loc1, scale=scale1) * float(size1) / x2.size\n",
    "               + norm.pdf(x_eval, loc=loc2, scale=scale2) * float(size2) / x2.size)\n",
    "\n",
    "fig = plt.figure(figsize=(8, 6))\n",
    "ax = fig.add_subplot(111)\n",
    "ax.plot(x_eval, bimodal_pdf, 'r--', label=\"Actual PDF\")\n",
    "ax.fill_between(X_train, bimodal_pdf[:375])\n",
    "ax.fill_between(X_test, bimodal_pdf[375:])\n",
    "\n",
    "ax.plot()\n"
   ]
  },
  {
   "cell_type": "markdown",
   "metadata": {
    "cell_id": "00000-426d3605-6dae-4a43-9129-c77b1f68f7dc",
    "deepnote_cell_type": "markdown",
    "tags": []
   },
   "source": [
    "## Problem statement\n",
    "> What is the problem the paper aims to solve?"
   ]
  },
  {
   "cell_type": "markdown",
   "metadata": {
    "cell_id": "00001-fe56e513-e36b-4b68-9ad1-f03c9d65bc2d",
    "deepnote_cell_type": "markdown",
    "tags": []
   },
   "source": [
    "## Context/scope\n",
    "> Why is this problem important or interesting?"
   ]
  },
  {
   "cell_type": "markdown",
   "metadata": {
    "cell_id": "00002-9229c3e8-17f4-40b1-9225-eb01a9d14192",
    "deepnote_cell_type": "markdown",
    "tags": []
   },
   "source": [
    "## Existing work\n",
    "> What has been done in literature?"
   ]
  },
  {
   "cell_type": "markdown",
   "metadata": {
    "cell_id": "00003-e863d573-8730-4195-baec-738f14c5dd0b",
    "deepnote_cell_type": "markdown",
    "tags": []
   },
   "source": [
    "## Contribution\n",
    "> What is gap in literature that the paper is trying to fill? What is the unique contribution?"
   ]
  },
  {
   "cell_type": "markdown",
   "metadata": {
    "cell_id": "00004-6c2c33a6-b63c-4d76-9c40-fe98610e7e59",
    "deepnote_cell_type": "markdown",
    "tags": []
   },
   "source": [
    "## Technical content (high level)\n",
    "> What are the high level ideas behind their technical contribution?"
   ]
  },
  {
   "cell_type": "markdown",
   "metadata": {
    "cell_id": "00005-ffe5e153-4b7d-4d62-95f7-805144fe6898",
    "deepnote_cell_type": "markdown",
    "tags": []
   },
   "source": [
    "## Technical content (details)\n",
    "> Highlight (not copy and paste entire sections) the relevant details that are important to focus on (e.g. if there's a model, define it; if there is a theorem, state it and explain why it's important, etc)."
   ]
  },
  {
   "cell_type": "markdown",
   "metadata": {
    "cell_id": "00006-107636e1-60c3-40c7-b95c-62dc34547b1d",
    "deepnote_cell_type": "markdown",
    "tags": []
   },
   "source": [
    "## Experiments\n",
    "> Which types of experiments were performed? What claims were these experiments trying to prove? Did the results prove the claims?"
   ]
  },
  {
   "cell_type": "markdown",
   "metadata": {
    "cell_id": "00007-4c5daff0-b01f-4c15-ab68-575b4eb87253",
    "deepnote_cell_type": "markdown",
    "tags": []
   },
   "source": [
    "## Evaluation (your opinion)\n",
    "> Do you think the work is technically sound? Do you think the proposed model/inference method is practical to use on real data and tasks? Do you think the experimental section was strong (there are sufficient evidence to support the claims and eliminate confounding factors)?"
   ]
  },
  {
   "cell_type": "markdown",
   "metadata": {
    "cell_id": "00008-40bb12bd-bf8d-4ac3-95ed-fc3ca98e048e",
    "deepnote_cell_type": "markdown",
    "tags": []
   },
   "source": [
    "## Future work (for those interested in continuing research in a related field)\n",
    "> Do you think you can suggest a concrete change or modification that would improve the existing solution(s) to the problem of interest? Try to implement some of these changes/modifications."
   ]
  },
  {
   "cell_type": "markdown",
   "metadata": {
    "cell_id": "00009-00cc1c39-6d05-4298-ad9b-29835d7a6f61",
    "deepnote_cell_type": "markdown",
    "tags": []
   },
   "source": [
    "## Broader Impact\n",
    "> How does this work potentially impact (both positively and negatively) the broader machine learning community and society at large when this technology is deployed? In the applications of this technology, who are the potentially human stakeholders? What are the potential risks to the interest of these stakeholders in the failure modes of this technology? Is there potential to exploit this technology for malicious purposes?"
   ]
  },
  {
   "cell_type": "markdown",
   "metadata": {
    "cell_id": "00011-76fb851f-bdbc-48a9-be0d-48c3d4ad9dc7",
    "deepnote_cell_type": "markdown",
    "tags": []
   },
   "source": [
    "## Code\n",
    "* At least one clear working pedagogical example demonstrating the problem the paper is claiming to solve. \n",
    "* At lease a bare bones implementation of the model/algorithm/solution (in some cases, you may be able to make assumptions  to simplify the model/algorithm/solution with the approval of your instructor)\n",
    "* Demonstration on at least one instance that your implementation solves the problem.\n",
    "* Demonstration on at least one instance the failure mode of the model/algorithm/solution, with an explanation for why failure occurred (is the dataset too large? Did you choose a bad hyper parameter?). The point of this is to point out edge cases to the user.\n",
    "\n",
    "**NOTE**: Look at https://github.com/onefishy/am207_fall19_projects/blob/master/calibrated_uncertainty/calibrated_uncertainty_2/report.ipynb for inspiration regarding how they weaved code into the above sections."
   ]
  },
  {
   "cell_type": "markdown",
   "metadata": {
    "created_in_deepnote_cell": true,
    "deepnote_cell_type": "markdown",
    "tags": []
   },
   "source": [
    "<a style='text-decoration:none;line-height:16px;display:flex;color:#5B5B62;padding:10px;justify-content:end;' href='https://deepnote.com?utm_source=created-in-deepnote-cell&projectId=80cb1556-c762-4c6a-89b8-6410c844af03' target=\"_blank\">\n",
    "<img alt='Created in deepnote.com' style='display:inline;max-height:16px;margin:0px;margin-right:7.5px;' src='data:image/svg+xml;base64,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' > </img>\n",
    "Created in <span style='font-weight:600;margin-left:4px;'>Deepnote</span></a>"
   ]
  }
 ],
 "metadata": {
  "deepnote": {
   "is_reactive": false
  },
  "deepnote_execution_queue": [],
  "deepnote_notebook_id": "e72c7ba7-758b-4ca0-8238-b51cffa42677",
  "interpreter": {
   "hash": "155e20831d8ddcd09d5f2e2b0407ff00a756432166f0ea923f961b2fa55a6b90"
  },
  "kernelspec": {
   "display_name": "Python 3.9.8 64-bit ('am207-FJieDsPb': pipenv)",
   "language": "python",
   "name": "python3"
  },
  "language_info": {
   "codemirror_mode": {
    "name": "ipython",
    "version": 3
   },
   "file_extension": ".py",
   "mimetype": "text/x-python",
   "name": "python",
   "nbconvert_exporter": "python",
   "pygments_lexer": "ipython3",
   "version": "3.9.8"
  },
  "orig_nbformat": 2
 },
 "nbformat": 4,
 "nbformat_minor": 2
}
