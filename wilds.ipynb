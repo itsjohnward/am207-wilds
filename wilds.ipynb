{
 "cells": [
  {
   "cell_type": "markdown",
   "metadata": {
    "cell_id": "00000-af0540d7-68c3-42dd-b2e2-aebb2b681397",
    "deepnote_cell_type": "markdown",
    "tags": []
   },
   "source": [
    "# A Review of [WILDS: A Benchmark of in-the-Wild Distribution Shifts](https://arxiv.org/pdf/2012.07421.pdf)"
   ]
  },
  {
   "cell_type": "markdown",
   "metadata": {
    "cell_id": "00015-8a1e76cc-6119-4926-9f11-a8ad9d1e9a52",
    "deepnote_cell_type": "markdown",
    "tags": []
   },
   "source": [
    "# The framework for final deliverables"
   ]
  },
  {
   "cell_type": "markdown",
   "metadata": {
    "cell_id": "00000-426d3605-6dae-4a43-9129-c77b1f68f7dc",
    "deepnote_cell_type": "markdown",
    "tags": []
   },
   "source": [
    "## Problem statement\n",
    "\n",
    "> What is the problem the paper aims to solve?\n",
    "\n",
    "The paper observes the fact that distribution shifts occur in real-world datasets, and the authors aim to provide a set of example datasets against which algorithms can be evaluated for the purpose of improving performance when distribution shifts are present. The two types of distribution shifts the authors focus on in this paper are: domain generalization, where the test data is related but distinct from the train data, and subpopulation shift, where the test data is from a specific subpopulation that's present but underrepresented in the train data."
   ]
  },
  {
   "cell_type": "markdown",
   "metadata": {
    "cell_id": "00001-fe56e513-e36b-4b68-9ad1-f03c9d65bc2d",
    "deepnote_cell_type": "markdown",
    "tags": []
   },
   "source": [
    "## Context/scope\n",
    "\n",
    "> Why is this problem important or interesting?\n",
    "\n",
    "Distribution shifts are ubiquitous in real-world applications, but ML research mostly focuses on contrived, cleanly-defined datasets. The the authors worry that the messiness of real-world data is a blind spot in academic research and therefore algorithms and methods must be re-evaluated in the lens of real-world data. The datasets the authors chose are specifically curated to maximize realism and diversity of application areas and characteristics."
   ]
  },
  {
   "cell_type": "markdown",
   "metadata": {
    "cell_id": "00002-9229c3e8-17f4-40b1-9225-eb01a9d14192",
    "deepnote_cell_type": "markdown",
    "tags": []
   },
   "source": [
    "## Existing work\n",
    "\n",
    "> What has been done in literature?\n",
    "\n",
    "The authors point to several examples of older, smaller datasets that have been used in the past but have fallen out of favor since modern models need more training data to be effective:\n",
    "\n",
    "1. part-ofspeech tagging (Marcus et al., 1993)\n",
    "2. sentiment analysis (Blitzer et al., 2007)\n",
    "3. land cover classification (Bruzzone and Marconcini, 2009)\n",
    "4. object recognition (Saenko et al., 2010)\n",
    "5. flow cytometry (Blanchard et al., 2011)\n",
    "\n",
    "They also give examples of researchers applying synthetic transformations in order to simulate shifts:\n",
    "\n",
    "1. ImageNet-C (Hendrycks and Dietterich, 2019), which corrupts images with noise\n",
    "2. the Backgrounds Challenge (Xiao et al., 2020)\n",
    "3. Waterbirds (Sagawa et al., 2020a), which alter image backgrounds\n",
    "4. Colored MNIST (Arjovsky et al., 2019), which changes the 6 colors of MNIST digits\n",
    "\n",
    "Similarly, there are examples of using intentional data splits, or a combination of different, related datasets:\n",
    "\n",
    "1. generalizing to photos solely from cartoons and other stylized images in PACS (Li et al., 2017a)\n",
    "2. generalizing to objects at different scales solely from a single scale in DeepFashion Remixed (Hendrycks et al., 2020b)\n",
    "3. Using training and test sets with disjoint subclasses in BREEDS (Santurkar et al., 2020)\n",
    "4. Using similar datasets (Hendrycks and Dietterich, 2019)"
   ]
  },
  {
   "cell_type": "markdown",
   "metadata": {
    "cell_id": "00003-e863d573-8730-4195-baec-738f14c5dd0b",
    "deepnote_cell_type": "markdown",
    "tags": []
   },
   "source": [
    "## Contribution\n",
    "\n",
    "> What is gap in literature that the paper is trying to fill? What is the unique contribution?\n",
    "\n",
    "All of the above-listed examples are good testbeds for isolated experimentation, but in the WILDS paper the authors aim to evaluate whether algorithms proposed in these other papers are generally robust or simply robust to the specific testing conditions they were developed against."
   ]
  },
  {
   "cell_type": "markdown",
   "metadata": {
    "cell_id": "00004-6c2c33a6-b63c-4d76-9c40-fe98610e7e59",
    "deepnote_cell_type": "markdown",
    "tags": []
   },
   "source": [
    "## Technical content (high level)\n",
    "\n",
    "> What are the high level ideas behind their technical contribution?\n",
    "\n",
    "In this paper the authors apply the proposed \"robust\" algorithms to real-world datasets and compare their performance to a baseline of Empirical Risk Minimization to evaluate their effectiveness at minimizing the known distribution shifts' effects."
   ]
  },
  {
   "cell_type": "markdown",
   "metadata": {
    "cell_id": "00005-ffe5e153-4b7d-4d62-95f7-805144fe6898",
    "deepnote_cell_type": "markdown",
    "tags": []
   },
   "source": [
    "## Technical content (details)\n",
    "> Highlight (not copy and paste entire sections) the relevant details that are important to focus on (e.g. if there's a model, define it; if there is a theorem, state it and explain why it's important, etc)."
   ]
  },
  {
   "cell_type": "markdown",
   "metadata": {
    "cell_id": "00006-107636e1-60c3-40c7-b95c-62dc34547b1d",
    "deepnote_cell_type": "markdown",
    "tags": []
   },
   "source": [
    "## Experiments\n",
    "> Which types of experiments were performed? What claims were these experiments trying to prove? Did the results prove the claims?"
   ]
  },
  {
   "cell_type": "markdown",
   "metadata": {
    "cell_id": "00007-4c5daff0-b01f-4c15-ab68-575b4eb87253",
    "deepnote_cell_type": "markdown",
    "tags": []
   },
   "source": [
    "## Evaluation (your opinion)\n",
    "> Do you think the work is technically sound? Do you think the proposed model/inference method is practical to use on real data and tasks? Do you think the experimental section was strong (there are sufficient evidence to support the claims and eliminate confounding factors)?"
   ]
  },
  {
   "cell_type": "markdown",
   "metadata": {
    "cell_id": "00008-40bb12bd-bf8d-4ac3-95ed-fc3ca98e048e",
    "deepnote_cell_type": "markdown",
    "tags": []
   },
   "source": [
    "## Future work (for those interested in continuing research in a related field)\n",
    "> Do you think you can suggest a concrete change or modification that would improve the existing solution(s) to the problem of interest? Try to implement some of these changes/modifications."
   ]
  },
  {
   "cell_type": "markdown",
   "metadata": {
    "cell_id": "00009-00cc1c39-6d05-4298-ad9b-29835d7a6f61",
    "deepnote_cell_type": "markdown",
    "tags": []
   },
   "source": [
    "## Broader Impact\n",
    "> How does this work potentially impact (both positively and negatively) the broader machine learning community and society at large when this technology is deployed? In the applications of this technology, who are the potentially human stakeholders? What are the potential risks to the interest of these stakeholders in the failure modes of this technology? Is there potential to exploit this technology for malicious purposes?"
   ]
  },
  {
   "cell_type": "markdown",
   "metadata": {
    "cell_id": "00011-76fb851f-bdbc-48a9-be0d-48c3d4ad9dc7",
    "deepnote_cell_type": "markdown",
    "tags": []
   },
   "source": [
    "## Code\n",
    "* At least one clear working pedagogical example demonstrating the problem the paper is claiming to solve. \n",
    "* At lease a bare bones implementation of the model/algorithm/solution (in some cases, you may be able to make assumptions  to simplify the model/algorithm/solution with the approval of your instructor)\n",
    "* Demonstration on at least one instance that your implementation solves the problem.\n",
    "* Demonstration on at least one instance the failure mode of the model/algorithm/solution, with an explanation for why failure occurred (is the dataset too large? Did you choose a bad hyper parameter?). The point of this is to point out edge cases to the user.\n",
    "\n",
    "**NOTE**: Look at https://github.com/onefishy/am207_fall19_projects/blob/master/calibrated_uncertainty/calibrated_uncertainty_2/report.ipynb for inspiration regarding how they weaved code into the above sections."
   ]
  },
  {
   "cell_type": "code",
   "execution_count": null,
   "metadata": {},
   "outputs": [],
   "source": [
    "# Basic NN\n",
    "from tensorflow.keras import models, layers\n",
    "\n",
    "model = models.Sequential()\n",
    "model.add(layers.Dense(2, activation='linear', input_shape=(2,)))\n",
    "model.add(layers.Dense(1, activation='linear'))\n",
    "model.summary()"
   ]
  },
  {
   "cell_type": "code",
   "execution_count": 1,
   "metadata": {
    "cell_id": "00004-2e685bc6-3345-4490-bd4a-4e6a5964ce57",
    "deepnote_cell_type": "code",
    "deepnote_output_heights": [
     21.1875,
     359
    ]
   },
   "outputs": [
    {
     "data": {
      "text/plain": [
       "[]"
      ]
     },
     "execution_count": 1,
     "metadata": {},
     "output_type": "execute_result"
    },
    {
     "data": {
      "image/png": "[encoded data removed]",
      "text/plain": [
       "<Figure size 576x432 with 1 Axes>"
      ]
     },
     "metadata": {
      "needs_background": "light"
     },
     "output_type": "display_data"
    }
   ],
   "source": [
    "import numpy as np\n",
    "from scipy.stats import norm\n",
    "import matplotlib.pyplot as plt\n",
    "\n",
    "loc1, scale1, size1 = (-2, 1, 175)\n",
    "loc2, scale2, size2 = (2, 0.2, 50)\n",
    "\n",
    "x2 = np.concatenate([np.random.normal(loc=loc1, scale=scale1, size=size1),\n",
    "                     np.random.normal(loc=loc2, scale=scale2, size=size2)])\n",
    "x_eval = np.linspace(x2.min() - 1, x2.max() + 1, 500)\n",
    "X_train = x_eval[:375]\n",
    "X_test = x_eval[375:]\n",
    "\n",
    "bimodal_pdf = (norm.pdf(x_eval, loc=loc1, scale=scale1) * float(size1) / x2.size\n",
    "               + norm.pdf(x_eval, loc=loc2, scale=scale2) * float(size2) / x2.size)\n",
    "\n",
    "fig = plt.figure(figsize=(8, 6))\n",
    "ax = fig.add_subplot(111)\n",
    "ax.plot(x_eval, bimodal_pdf, 'r--', label=\"Actual PDF\")\n",
    "ax.fill_between(X_train, bimodal_pdf[:375])\n",
    "ax.fill_between(X_test, bimodal_pdf[375:])\n",
    "\n",
    "ax.plot()\n"
   ]
  },
  {
   "cell_type": "code",
   "execution_count": null,
   "metadata": {
    "cell_id": "00012-e7bb9832-71dc-47f9-a336-0af971784aec",
    "deepnote_cell_type": "markdown",
    "tags": []
   },
   "outputs": [],
   "source": [
    "# ERM on Scatterplot\n"
   ]
  },
  {
   "cell_type": "code",
   "execution_count": null,
   "metadata": {
    "cell_id": "00013-e48aaa7b-b6a7-44f8-a941-61a384ad3b03",
    "deepnote_cell_type": "markdown",
    "tags": []
   },
   "outputs": [],
   "source": [
    "# DRO on Scatterplot\n"
   ]
  },
  {
   "cell_type": "code",
   "execution_count": null,
   "metadata": {
    "cell_id": "00014-e759f21c-8f4a-4ef2-970f-6ed3a862d9c5",
    "deepnote_cell_type": "markdown",
    "tags": []
   },
   "outputs": [],
   "source": [
    "# ERM on dSprites\n"
   ]
  },
  {
   "cell_type": "code",
   "execution_count": null,
   "metadata": {},
   "outputs": [],
   "source": [
    "# DRO on dSprites\n"
   ]
  }
 ],
 "metadata": {
  "deepnote": {
   "is_reactive": false
  },
  "deepnote_execution_queue": [],
  "deepnote_notebook_id": "e72c7ba7-758b-4ca0-8238-b51cffa42677",
  "interpreter": {
   "hash": "155e20831d8ddcd09d5f2e2b0407ff00a756432166f0ea923f961b2fa55a6b90"
  },
  "kernelspec": {
   "display_name": "Python 3 (ipykernel)",
   "language": "python",
   "name": "python3"
  },
  "language_info": {
   "codemirror_mode": {
    "name": "ipython",
    "version": 3
   },
   "file_extension": ".py",
   "mimetype": "text/x-python",
   "name": "python",
   "nbconvert_exporter": "python",
   "pygments_lexer": "ipython3",
   "version": "3.7.12"
  }
 },
 "nbformat": 4,
 "nbformat_minor": 4
}
