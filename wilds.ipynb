{
 "cells": [
  {
   "cell_type": "markdown",
   "source": "# A Review of [WILDS: A Benchmark of in-the-Wild Distribution Shifts](https://arxiv.org/pdf/2012.07421.pdf)",
   "metadata": {
    "cell_id": "00000-af0540d7-68c3-42dd-b2e2-aebb2b681397",
    "tags": [],
    "deepnote_cell_type": "markdown"
   }
  },
  {
   "cell_type": "markdown",
   "source": "# The framework for final deliverables",
   "metadata": {
    "cell_id": "00015-8a1e76cc-6119-4926-9f11-a8ad9d1e9a52",
    "tags": [],
    "deepnote_cell_type": "markdown"
   }
  },
  {
   "cell_type": "markdown",
   "source": "## Problem statement\n\n> What is the problem the paper aims to solve?\n\nThe paper observes the fact that distribution shifts occur in real-world datasets, and the authors aim to provide a set of example datasets against which algorithms can be evaluated for the purpose of improving performance when distribution shifts are present. The two types of distribution shifts the authors focus on in this paper are: domain generalization, where the test data is related but distinct from the train data, and subpopulation shift, where the test data is from a specific subpopulation that's present but underrepresented in the train data.",
   "metadata": {
    "cell_id": "00000-426d3605-6dae-4a43-9129-c77b1f68f7dc",
    "tags": [],
    "deepnote_cell_type": "markdown"
   }
  },
  {
   "cell_type": "markdown",
   "source": "## Context/scope\n\n> Why is this problem important or interesting?\n\nDistribution shifts are ubiquitous in real-world applications, but ML research mostly focuses on contrived, cleanly-defined datasets. The the authors worry that the messiness of real-world data is a blind spot in academic research and therefore algorithms and methods must be re-evaluated in the lens of real-world data. The datasets the authors chose are specifically curated to maximize realism and diversity of application areas and characteristics.",
   "metadata": {
    "cell_id": "00001-fe56e513-e36b-4b68-9ad1-f03c9d65bc2d",
    "tags": [],
    "deepnote_cell_type": "markdown"
   }
  },
  {
   "cell_type": "markdown",
   "source": "## Existing work\n\n> What has been done in literature?\n\nThe authors point to several examples of older, smaller datasets that have been used in the past but have fallen out of favor since modern models need more training data to be effective:\n\n1. part-of speech tagging (Marcus et al., 1993)\n2. sentiment analysis (Blitzer et al., 2007)\n3. land cover classification (Bruzzone and Marconcini, 2009)\n4. object recognition (Saenko et al., 2010)\n5. flow cytometry (Blanchard et al., 2011)\n\nThey also give examples of researchers applying synthetic transformations in order to simulate shifts:\n\n1. ImageNet-C (Hendrycks and Dietterich, 2019), which corrupts images with noise\n2. the Backgrounds Challenge (Xiao et al., 2020)\n3. Waterbirds (Sagawa et al., 2020a), which alter image backgrounds\n4. Colored MNIST (Arjovsky et al., 2019), which changes the 6 colors of MNIST digits\n\nSimilarly, there are examples of using intentional data splits, or a combination of different, related datasets:\n\n1. generalizing to photos solely from cartoons and other stylized images in PACS (Li et al., 2017a)\n2. generalizing to objects at different scales solely from a single scale in DeepFashion Remixed (Hendrycks et al., 2020b)\n3. Using training and test sets with disjoint subclasses in BREEDS (Santurkar et al., 2020)\n4. Using similar datasets (Hendrycks and Dietterich, 2019)",
   "metadata": {
    "cell_id": "00002-9229c3e8-17f4-40b1-9225-eb01a9d14192",
    "tags": [],
    "deepnote_cell_type": "markdown"
   }
  },
  {
   "cell_type": "markdown",
   "source": "## Contribution\n\n> What is gap in literature that the paper is trying to fill? What is the unique contribution?\n\nAll of the above-listed examples are good testbeds for isolated experimentation, but in the WILDS paper the authors aim to evaluate whether algorithms proposed in these other papers are generally robust or simply robust to the specific testing conditions they were developed against.",
   "metadata": {
    "cell_id": "00003-e863d573-8730-4195-baec-738f14c5dd0b",
    "tags": [],
    "deepnote_cell_type": "markdown"
   }
  },
  {
   "cell_type": "markdown",
   "source": "## Technical content (high level)\n\n> What are the high level ideas behind their technical contribution?\n\nIn this paper the authors apply a set of known \"robust\" algorithms to the real-world datasets presented in this paper and compare the algorithms' performance to a baseline to evaluate their effectiveness at minimizing the datasets' known distribution shifts' effects.",
   "metadata": {
    "cell_id": "00004-6c2c33a6-b63c-4d76-9c40-fe98610e7e59",
    "tags": [],
    "deepnote_cell_type": "markdown"
   }
  },
  {
   "cell_type": "markdown",
   "source": "## Technical content (details)\n\n> Highlight (not copy and paste entire sections) the relevant details that are important to focus on (e.g. if there's a model, define it; if there is a theorem, state it and explain why it's important, etc).\n\n### Datasets\n\n#### Domain Generalization Datasets:\n\n* IWildCam2020: Species Classification Across Different Camera Traps\n* Camelyon17: Tumor Identification Across Different Hospitals\n* RxRx1: Genetic Perturbation Classification Across Experimental Batches\n* OGB-MolPCBA: Molecular Property Prediction Across Different Scaffolds\n* GlobalWheat: Wheat Head Detection Across Regions of the World\n\n#### Subpopulation Shift Datasets:\n\n* CivilComments: Toxicity Classification Across Demographic Identities\n\n#### Hybrid Datasets (contain both Domain Generalization and Subpopulation Shift):\n\n* FMoW: Land Use Classification Across Different Regions and Years\n* PovertyMap: Poverty Mapping Across Different Countries\n* Amazon: Sentiment Classification Across Different Users\n* Py150: Code Completion Across Different Codebases\n\n### Performance Drop Measurement Methodology\n\nTrain models via empirical risk minimization (ERM) and measure the difference between out-of-distribution and in-distribution performance. Then, train the same model via some other \"robust\" algorithm (listed below) and compare the difference between out-of-distribution and in-distribution performance.\n\nWhere feasible, the authors measured in-distribution performance on $p_{test}$. However, that was not always possible with every dataset where the test set may be significantly more difficult to train on than the training set. Therefore there are 5 different in-distribution settings the WILDS package provides, each of which has its own pros and cons, and which one is appropriate for a given dataset is decided on a case-by-case basis. In-distribution performance can be evaluated via:\n\n* Test-to-test (train on $p_{test}$, test on $p_{test}$)\n* Mixed-to-test (train on a mixture of $p_{train}$ and $p_{test}$, test on $p_{test}$)\n* Train-to-train (train on $p_{train}$, evluate on $p_{train}$)\n* Average (report average instead of worst-case performance)\n* Random split (train and evaluate on an i.i.d. split)\n\n### Model Selection\n\nStandard model architectures for each dataset:\n\n* ResNet and DenseNet for images (He et al., 2016; Huang et al., 2017)\n* DistilBERT for text (Sanh et al., 2019)\n* Graph Isomorphism Network (GIN) for graphs (Xu et al., 2018)\n* Faster-RCNN (Ren et al., 2015) for detection\n\n### Baseline Algorithms\n\n#### Domain Generalization\n\n* CORAL (Sun and Saenko, 2016)\n* IRM (Arjovsky et al., 2019)\n\n#### Subpopulation Shift\n\n* Group DRO (Hu et al., 2018; Sagawa et al., 2020a)",
   "metadata": {
    "cell_id": "00005-ffe5e153-4b7d-4d62-95f7-805144fe6898",
    "tags": [],
    "deepnote_cell_type": "markdown"
   }
  },
  {
   "cell_type": "markdown",
   "metadata": {
    "cell_id": "00008-e440c7be-964a-469a-8821-dd87efbac821",
    "deepnote_cell_type": "markdown",
    "tags": []
   },
   "source": [
    "## Technical content (details) (Jim, in progress)\n",
    "\n",
    "## 1. The Out-of-Distribution (OOD) problem settings\n",
    "\n",
    "We first define the out-of-distribution (OOD) generalisation problem. The original WILDS paper focus specifically on *supervised learning*, and in three situations -- domain genralisation, subpopulation shift, and the hybrid setting that involves both domain generalisation and subpopulation shift – it is hard to isolate one effect from the other.\n",
    "\n",
    "A model is defined such as:\n",
    "\n",
    "$$\n",
    "f_{\\theta}: X \\rightarrow Y\n",
    "$$\n",
    "\n",
    "The model maps features $X$ to result $Y$; we seek to learn parameters $\\theta$.\n",
    "\n",
    "In the supervised learning settings, a loss function measures the distance between model output and ground truth. We define such loss as:\n",
    "\n",
    "$$\n",
    "\\ell: (f_{\\theta}(X),Y) \\rightarrow \\mathbb{R}\n",
    "$$\n",
    "\n",
    "A supervised learning is a generalisation task that seeks to find the optimal model $f_{\\theta}^{*}$ that achieves the best performance on testing dataset drawn from the testing distribution $P^{test}(X,Y)$, given training data drawn from the training distribution $P^{train}(X,Y)$.\n",
    "\n",
    "$$\n",
    "f_{\\theta}^{*}=\\arg \\min _{f_{\\theta}} \\mathbb{E}_{X, Y \\sim P^{test}}\\left[\\ell\\left(f_{\\theta}(X), Y\\right)\\right]\n",
    "$$\n",
    "\n",
    "Many traditional learning frameworks assumes that the train and test distribution are the same distribution that:\n",
    "\n",
    "$$\n",
    "P^{train}= P^{test}\n",
    "$$\n",
    "\n",
    "**ERM**, the baseline algorithm in *WILDS* follows this assumption; it assumes train and test data are drawn from the same distribution without considering the OOD scenario. First formally proposed in Vapnik (1991), the ERM is defined as:\n",
    "\n",
    "ERM optimises such a loss function that:\n",
    "\n",
    "$$\n",
    "\\mathcal{L}_{E R M}=\\frac{1}{n} \\sum_{i=1}^{n} \\ell\\left(f_{\\theta}\\left(x_{i}\\right), y_{i}\\right)\n",
    "$$\n",
    "\n",
    "But in real-world applications, this is not the case. Mostly, we are faced with distribution shift that $P^{train}(X) \\neq P^{test}(X)$, where the test distribution is shifted from the training distribution and unknown to us during training.\n",
    "\n",
    "To tackle the OOD generalization problem, we must make adequate assumption about the shift in distribution. i.e., the shifted distribution needs to be related with the training distribution somehow. If it is a completely unrelated distribution, it’s meaningless to generalize our trained model to it; we’d better train a new model.\n",
    "\n",
    "Following the original *WILDS* paper, in this study, we discuss mainly the “covariate shift”, where the marginal distribution of $X$ shifts while the intrinsic result-generation mechanism remains unchanged:\n",
    "\n",
    "$$\n",
    "P^{train}(Y \\mid X)=P^{test}(Y \\mid X) \\text{ while }  P^{train}(X) \\neq P^{test}(X)\n",
    "$$\n",
    "\n",
    "For example, in the tissue cancer detection dataset, the distribution of tissue image is bound to be different due to differences in hospitals' filming equipment, patients' conditions, etc. However, the mechanism of what kind of tissue constitute a cancer is unchanged across hospitals and patients -- there is an underlying consistent relationship that holds from training to OOD testing set, and that is why OOD robust generalisation methods can work, at lease theoretically. \n",
    "\n",
    "More specifically, OOD issue can be further categorized into the following three types:\n",
    "1 Domain generalisation\n",
    "\n",
    "#TODO\n",
    "\n",
    "2 Subpopulation shift\n",
    "\n",
    "#TODO\n",
    "\n",
    "3 Hybrid settings (both domain generalisation and subpopulation shift)\n",
    "\n",
    "#TODO\n",
    "\n",
    "\n",
    "\n",
    "  \n",
    "\n",
    "## 2. current OOD robust algorithms and their performance on *WILDS*\n",
    "\n",
    "A number of algorithms have been developed to solve the OOD problem. We formalise these baseline algorithms that are used in *WILDS*. This section is important because it lays the groundwork for our subsequent *evaluation* and discussions on *future improvements*.\n",
    "\n",
    "First, we define the evaluation metrics. There are two prevalent metrics to evaluate the effectiveness of OOD generalisation.\n",
    "\n",
    "Average accuracy:\n",
    "$$\n",
    "\\overline{\\mathrm{Acc}}=\\frac{1}{K} \\sum_{k=1}^{K} \\operatorname{acc}_{k}\n",
    "$$\n",
    "Worst Accuracy:\n",
    "$$\n",
    "\\mathrm{Acc}_{w o r s t}=\\min _{k \\in[K]} \\mathrm{acc}_{k}\n",
    "$$\n",
    "\n",
    "*WILDS* paper benchmarks the following three OOD robust algorithms:\n",
    "\n",
    "#### Domain generalisation baseline algorithms:\n",
    "Consider dataset $D^{d}=\\left\\{X^{d}, Y^{d}\\right\\}$ collected from domain $d$,  where\n",
    "$$\n",
    "d \\in \\operatorname{supp}\\left(\\mathcal{D}_{train}\\right)\n",
    "$$\n",
    "\n",
    "that $d$ is one of the domain in the observable training super-domain $\\mathcal{D}_{train}$. $P^{d}$ denotes the distribution of data and label in domain $d$.  \n",
    "\n",
    "We assume that, \n",
    "\n",
    "$$\n",
    "\\forall d, d \\in \\operatorname{supp}(\\mathcal{D}_{all}) \\backslash \\operatorname{supp}\\left(\\mathcal{D}_{train}\\right) \\text{ or } d \\in \\operatorname{supp}\\left(\\mathcal{D}_{test}\\right)\n",
    "$$\n",
    "\n",
    "the distribution $P^{d}$ is very different from $P^{d'}$, $\\forall d' \\in \\mathcal{D}_{train}$. \n",
    "\n",
    "##### IRM, for domain generalization;\n",
    "Invariant Risk Minimization (IRM) derived from research in causality study originally targeted on latent causal mechanism identification.\n",
    "\n",
    "An important assumption for IRM is *Invariance Assumption* that, when conditioning on some of the covariates, the conditional distribution is invariant in every domain: \n",
    "\n",
    "$$\n",
    "P\\left(Y^{d} \\mid X_{subset}^{d}\\right) \\text { holds unchanged } \\forall d \\in \\mathcal{D}_{all}\n",
    "$$\n",
    "\n",
    "To reach the IRM algorithm, we need another stronger assumptions called *IRM's Invariance Assumption* and a restricting condition called *IRM's condition*. \n",
    "\n",
    "*IRM's Invariance Assumption* says that: \n",
    "\n",
    "$$\\exists \\Phi(X) \\text{ s.t. } \\forall d,d' \\in \\operatorname{supp}(D_{train}), \n",
    "\\mathbb{E}\\left[Y \\mid \\Phi\\left(X^{d}\\right)\\right]=\\mathbb{E}\\left[Y \\mid \\Phi\\left(X^{d'}\\right)\\right]\n",
    "$$\n",
    "\n",
    "This assumption generalises the previous assumption, leading to the objective function: \n",
    "\n",
    "$$\n",
    "\\min _{\\Phi(X), w} \\sum_{d \\in \\operatorname{supp}\\left(\\mathcal{D}_{train}\\right)} \\mathcal{L}^{d}(w \\odot \\Phi(X), Y) \\text{ s.t. }w \\in \\arg \\min _{w} \\mathcal{L}^{d}(w \\odot \\Phi(X)), \\forall d \\in \\operatorname{supp}\\left(\\mathcal{D}_{train}\\right)\n",
    "$$\n",
    "\n",
    "For IRM to work, we also need the restricting assumption that, the set of training domains $D^{train}$ must lie in linear general position of degree $n$ if $\\left|\\mathcal{D}_{train}\\right|>n-r+\\frac{n}{r}$ for some $r \\in \\mathbb{N}$, noise $\\epsilon^d$ in domain $d$, and for any non-zero $x \\in \\mathbb{R}^{n}$:\n",
    "\n",
    "$$\n",
    "\\operatorname{dim}\\left(\\operatorname{span}\\left(\\left\\{\\mathbb{E}_{X^{d}}\\left[X^{d} X^{d T}\\right] x-\\mathbb{E}_{X^{d}, \\epsilon^{d}}\\left[X^{d} \\epsilon^{d}\\right]\\right\\}_{d \\in \\mathcal{D}_{train}}\\right)\\right)>n-r\n",
    "$$\n",
    "\n",
    "Thus, IRM ensures that in linear situations, representation of features $X$, $\\Phi(X)$, if elicits an invariant predictor $w \\circ \\Phi(X)$ across $D_{trian}$, and that the set of training domains lies in linear general position of degree $n$, then $w \\circ \\Phi(X)$ is **invariant across all possible domains, including unseen testing domains.** That is why the *WILDS* authors expected IRM would work on their WILDS benchmark.  \n",
    "\n",
    "##### CORAL, originally designed for unsupervised domain adaptation;\n",
    "\n",
    "#TODO word explanation\n",
    "$$\n",
    "\\mathcal{L}_{C O R A L}=\\frac{1}{4 d^{2}}\\left\\|C_{trian}-C_{test}\\right\\|_{F}^{2}\n",
    "$$\n",
    "\n",
    "$$\n",
    "C_{train}=\\frac{1}{n_{train}-1}\\left(D_{train}^{\\top} D_{train}-\\frac{1}{n_{train}}\\left(\\mathbf{1}^{\\top} D_{train}\\right)^{\\top}\\left(\\mathbf{1}^{\\top} D_{train}\\right)\\right)\n",
    "$$\n",
    "$$\n",
    "C_{test}=\\frac{1}{n_{test}-1}\\left(D_{test}^{\\top} D_{test}-\\frac{1}{n_{test}}\\left(\\mathbf{1}^{\\top} D_{test}\\right)^{\\top}\\left(\\mathbf{1}^{\\top} D_{test}\\right)\\right)\n",
    "$$\n",
    "\n",
    "### Subpopulation shift baseline algorithms:\n",
    "##### Group DRO, for subpopulation shifts;\n",
    "In subpopulation shift settings, our aim is to train models that perform well on all relevant subpopulations.\n",
    "\n",
    "Group DRO (Hu et al., 2018; Sagawa et al., 2020a), which uses distributionally robust optimization to explicitly minimize the loss on the worst-case domain during training. Group DRO builds on the maximin approach developed in Meinshausen and Bühlmann (2015).\n",
    "\n",
    "Overall, *WILDS* paper suggests that these algorithms did not improve over ERM overall, and sometimes made performance “significantly worse.” \n",
    "\n",
    "  \n",
    "\n"
   ]
  },
  {
   "cell_type": "markdown",
   "source": "## Experiments\n\n> Which types of experiments were performed? What claims were these experiments trying to prove? Did the results prove the claims?\n\nEach dataset was tested on ERM as a baseline, and then with CORAL, IRM, and Group DRO to see if the proposed algorithms improve performance.\n\nCORAL, IRM, and Group DRO all generally fail to improve over models trained with ERM when applied to the WILDS datasets, with the exception of Group DRO applied to the CivilComments dataset.",
   "metadata": {
    "cell_id": "00006-107636e1-60c3-40c7-b95c-62dc34547b1d",
    "tags": [],
    "deepnote_cell_type": "markdown"
   }
  },
  {
   "cell_type": "markdown",
   "source": "## Evaluation (your opinion)\n\n> Do you think the work is technically sound? Do you think the proposed model/inference method is practical to use on real data and tasks? Do you think the experimental section was strong (there are sufficient evidence to support the claims and eliminate confounding factors)?\n\n# #TODO",
   "metadata": {
    "cell_id": "00007-4c5daff0-b01f-4c15-ab68-575b4eb87253",
    "tags": [],
    "deepnote_cell_type": "markdown"
   }
  },
  {
   "cell_type": "markdown",
   "source": "## Future work (for those interested in continuing research in a related field)\n\n> Do you think you can suggest a concrete change or modification that would improve the existing solution(s) to the problem of interest? Try to implement some of these changes/modifications.\n\n# #TODO",
   "metadata": {
    "cell_id": "00008-40bb12bd-bf8d-4ac3-95ed-fc3ca98e048e",
    "tags": [],
    "deepnote_cell_type": "markdown"
   }
  },
  {
   "cell_type": "markdown",
   "source": "## Broader Impact\n\n> How does this work potentially impact (both positively and negatively) the broader machine learning community and society at large when this technology is deployed? In the applications of this technology, who are the potentially human stakeholders? What are the potential risks to the interest of these stakeholders in the failure modes of this technology? Is there potential to exploit this technology for malicious purposes?\n\nThis paper and the WILDS library/datasets have the stated goal of improving ML research methodologies in regard to distribution shifts. Therefore, by affecting research, the work has far-reaching implications on any model that may be developed using an algorithm that was validated against these datasets. If successful, some common algorithmic fairness issues that would be addressed include:\n\n* generalizing to underrepresented geographies (datasets tend to emphasize the US and Europe) and races\n* high-stakes areas such as criminal justice, healthcare, and education often have limited training data available\n* autonomous vehicles must generalize well to any given situation, and it's impossible to test absolutely every possible case\n",
   "metadata": {
    "cell_id": "00009-00cc1c39-6d05-4298-ad9b-29835d7a6f61",
    "tags": [],
    "deepnote_cell_type": "markdown"
   }
  },
  {
   "cell_type": "markdown",
   "source": "## Code\n* At least one clear working pedagogical example demonstrating the problem the paper is claiming to solve. \n* At lease a bare bones implementation of the model/algorithm/solution (in some cases, you may be able to make assumptions  to simplify the model/algorithm/solution with the approval of your instructor)\n* Demonstration on at least one instance that your implementation solves the problem.\n* Demonstration on at least one instance the failure mode of the model/algorithm/solution, with an explanation for why failure occurred (is the dataset too large? Did you choose a bad hyper parameter?). The point of this is to point out edge cases to the user.\n\n**NOTE**: Look at https://github.com/onefishy/am207_fall19_projects/blob/master/calibrated_uncertainty/calibrated_uncertainty_2/report.ipynb for inspiration regarding how they weaved code into the above sections.",
   "metadata": {
    "cell_id": "00011-76fb851f-bdbc-48a9-be0d-48c3d4ad9dc7",
    "tags": [],
    "deepnote_cell_type": "markdown"
   }
  },
  {
   "cell_type": "code",
   "metadata": {
    "cell_id": "00004-2e685bc6-3345-4490-bd4a-4e6a5964ce57",
    "deepnote_output_heights": [
     21.1875,
     359
    ],
    "deepnote_to_be_reexecuted": false,
    "execution_millis": 442,
    "execution_start": 1638751606256,
    "source_hash": "786744f7",
    "deepnote_cell_type": "code"
   },
   "source": "import numpy as np\nfrom scipy.stats import norm\nimport matplotlib.pyplot as plt\n\nloc1, scale1, size1 = (-2, 1, 175)\nloc2, scale2, size2 = (2, 0.2, 50)\n\nx2 = np.concatenate([np.random.normal(loc=loc1, scale=scale1, size=size1),\n                     np.random.normal(loc=loc2, scale=scale2, size=size2)])\nx_eval = np.linspace(x2.min() - 1, x2.max() + 1, 500)\nX_train = x_eval[:375]\nX_test = x_eval[375:]\n\nbimodal_pdf = (norm.pdf(x_eval, loc=loc1, scale=scale1) * float(size1) / x2.size\n               + norm.pdf(x_eval, loc=loc2, scale=scale2) * float(size2) / x2.size)\n\nfig = plt.figure(figsize=(8, 6))\nax = fig.add_subplot(111)\nax.plot(x_eval, bimodal_pdf, 'r--', label=\"Actual PDF\")\nax.fill_between(X_train, bimodal_pdf[:375])\nax.fill_between(X_test, bimodal_pdf[375:])\n\nax.plot()",
   "outputs": [
    {
     "output_type": "execute_result",
     "execution_count": 9,
     "data": {
      "text/plain": "[]"
     },
     "metadata": {}
    },
    {
     "data": {
      "text/plain": "<Figure size 576x432 with 1 Axes>",
      "image/png": "[encoded data removed]"
     },
     "metadata": {
      "needs_background": "light",
      "image/png": {
       "width": 483,
       "height": 357
      }
     },
     "output_type": "display_data"
    }
   ],
   "execution_count": null
  },
  {
   "cell_type": "code",
   "execution_count": null,
   "metadata": {
    "cell_id": "00015-755fdfcd-06b0-4a02-b512-643a8e0cad22",
    "deepnote_output_heights": [
     null,
     280
    ],
    "deepnote_to_be_reexecuted": false,
    "execution_millis": 16873,
    "execution_start": 1638751606661,
    "source_hash": "40a4fa31",
    "tags": [],
    "deepnote_cell_type": "code"
   },
   "source": "def plot_loss(history):\n    fig, axis = plt.subplots()\n    color = next(axis._get_lines.prop_cycler)['color']\n    \n    loss = history['loss']\n    val_loss = history['val_loss']\n\n    epochs = range(1, len(loss) + 1)\n\n    axis.plot(epochs,\n              loss,\n              color=color,\n              linestyle='dotted',\n              label='Training loss ({}%)'.format(np.format_float_positional(min(loss)*100)))\n    axis.plot(epochs,\n              val_loss,\n              color=color,\n              label='Validation loss ({}%)'.format(np.format_float_positional(min(val_loss)*100)))\n    axis.set_title('Training and validation loss')\n    axis.set_xlabel('Epochs')\n    axis.set_ylabel('Loss')\n    axis.legend()\n\n    plt.show()\n\n# Basic NN\nfrom tensorflow.keras import models, layers\n\ndef get_model():\n    model = models.Sequential()\n    model.add(layers.Dense(2, activation='linear', input_shape=(1,)))\n    model.add(layers.Dense(1, activation='linear'))\n    model.summary()\n    model.compile(loss='binary_crossentropy', metrics=['accuracy'])\n    return model\n\nx_train = np.array([np.array(x) for x in X_train])\ny_train = bimodal_pdf[:375]\nx_val = np.array([np.array(x) for x in X_test])\ny_val = bimodal_pdf[375:]\n\nhistory = get_model().fit(x_train,\n                          y_train,\n                          validation_data=(x_val, y_val),\n                          epochs=100,\n                          verbose=0).history\n\nplot_loss(history)",
   "outputs": [
    {
     "name": "stdout",
     "text": "Model: \"sequential_3\"\n_________________________________________________________________\nLayer (type)                 Output Shape              Param #   \n=================================================================\ndense_6 (Dense)              (None, 2)                 4         \n_________________________________________________________________\ndense_7 (Dense)              (None, 1)                 3         \n=================================================================\nTotal params: 7\nTrainable params: 7\nNon-trainable params: 0\n_________________________________________________________________\n",
     "output_type": "stream"
    },
    {
     "data": {
      "text/plain": "<Figure size 432x288 with 1 Axes>",
      "image/png": "[encoded data removed]"
     },
     "metadata": {
      "needs_background": "light",
      "image/png": {
       "width": 382,
       "height": 278
      }
     },
     "output_type": "display_data"
    }
   ],
   "execution_count": null
  },
  {
   "cell_type": "code",
   "metadata": {
    "cell_id": "00016-3423a035-6b65-4901-ace0-eb873707ac26",
    "deepnote_cell_type": "code",
    "tags": []
   },
   "source": "",
   "outputs": [],
   "source": [
    "from tensorflow.keras import losses, optimizers\n",
    "from tensorflow import keras\n",
    "\n",
    "def get_tensor_model():\n",
    "    # classes_num = 182\n",
    "    # pool_size = 4\n",
    "    # lr = 0.001\n",
    "    # nb_filters1 = 32\n",
    "    # nb_filters2 = 64\n",
    "    # conv1_size = 3\n",
    "    # conv2_size = 2\n",
    "    # img_width, img_height = 150, 150\n",
    "    # model = models.Sequential()\n",
    "    # model.add(layers.Convolution2D(nb_filters1, conv1_size, conv1_size,\n",
    "    #                                padding='same',\n",
    "    #                                input_shape=(3, img_width, img_height),\n",
    "    #                                data_format='channels_first'))\n",
    "    # model.add(layers.Activation(\"relu\"))\n",
    "    # model.add(layers.MaxPooling2D(pool_size=(pool_size, pool_size)))\n",
    "\n",
    "    # model.add(layers.Convolution2D(nb_filters2, conv2_size, conv2_size,\n",
    "    #                                padding='same'))\n",
    "    # model.add(layers.Activation(\"relu\"))\n",
    "    # model.add(layers.MaxPooling2D(pool_size=(pool_size, pool_size),\n",
    "    #                               padding='same'))\n",
    "    # model.add(layers.Flatten())\n",
    "    # model.add(layers.Dense(256))\n",
    "    # model.add(layers.Activation(\"relu\"))\n",
    "    # model.add(layers.Dropout(0.5))\n",
    "    # model.add(layers.Dense(1, activation='softmax'))\n",
    "\n",
    "    # model.summary()\n",
    "\n",
    "    # model.compile(loss='categorical_crossentropy',\n",
    "    #             optimizer=optimizers.RMSprop(lr=lr),\n",
    "    #             metrics=['accuracy'])\n",
    "    input_shape = (150, 150, 3)\n",
    "    classes_num = 182\n",
    "    inputs = keras.Input(shape=input_shape)\n",
    "    # x = layers.Rescaling(1.0 / 255)(inputs)  # Rescale inputs\n",
    "    outputs = keras.applications.ResNet50(  # Add the rest of the model\n",
    "        weights=None, input_shape=input_shape, classes=classes_num\n",
    "    )(inputs)\n",
    "    model = keras.Model(inputs, outputs)\n",
    "    model.summary()\n",
    "    model.compile(optimizer=\"rmsprop\", loss=\"sparse_categorical_crossentropy\")\n",
    "    return model\n",
    "\n",
    "history = get_tensor_model().fit(X_train[:100], y_train[:100],\n",
    "                                 validation_data=(X_test[:100], y_test[:100]),\n",
    "                                 epochs=100,\n",
    "                                 verbose=1).history\n",
    "\n",
    "plot_loss(history)"
   ]
  },
  {
   "cell_type": "code",
   "execution_count": null,
   "metadata": {
    "cell_id": "00015-5eb59d47-0b5f-4454-97eb-56a8ece6c0e6",
    "deepnote_cell_type": "code",
    "deepnote_output_heights": [
     null,
     280
    ],
    "deepnote_to_be_reexecuted": false,
    "execution_millis": 4563,
    "execution_start": 1638752558279,
    "source_hash": "4fdb1c3c",
    "tags": []
   },
   "source": "from adapt.feature_based import CORAL\nfrom tensorflow.keras.callbacks import Callback\nfrom tensorflow.keras.losses import binary_crossentropy as loss\n\nclass SavePrediction(Callback):\n    \"\"\"Callback which stores predicted labels in history at each epoch.\"\"\"\n    def __init__(self, X_train, y_train, X_val, y_val):\n        self.X_train = X_train\n        self.y_train = y_train\n        self.X_val = X_val\n        self.y_val = y_val\n        self.history = {\n            'loss': [],\n            'val_loss': []\n        }\n        super().__init__()\n\n    def on_epoch_end(self, batch, logs={}):\n        \"\"\"Applied at the end of each epoch\"\"\"\n        y_train_pred = self.model.predict_on_batch(self.X_train).ravel()\n        y_val_pred = self.model.predict_on_batch(self.X_val).ravel()\n        self.history['loss'].append(np.mean(loss(self.y_train, y_train_pred)))\n        self.history['val_loss'].append(np.mean(loss(self.y_val, y_val_pred)))\n\nmodel = CORAL(get_model())\n\nsave_preds = SavePrediction(x_train, y_train, x_val, y_val)\nmodel.fit(x_train,\n          y_train,\n          x_train,\n          callbacks=[save_preds], \n          epochs=100,\n          verbose=0)\n\nplot_loss(save_preds.history)",
   "outputs": [
    {
     "name": "stdout",
     "text": "Model: \"sequential_17\"\n_________________________________________________________________\nLayer (type)                 Output Shape              Param #   \n=================================================================\ndense_34 (Dense)             (None, 2)                 4         \n_________________________________________________________________\ndense_35 (Dense)             (None, 1)                 3         \n=================================================================\nTotal params: 7\nTrainable params: 7\nNon-trainable params: 0\n_________________________________________________________________\nCovariance Matrix alignement...\nPrevious covariance difference: 0.000000\nNew covariance difference: 0.000000\nFit estimator...\n",
     "output_type": "stream"
    },
    {
     "data": {
      "text/plain": "<Figure size 432x288 with 1 Axes>",
      "image/png": "[encoded data removed]"
     },
     "metadata": {
      "needs_background": "light",
      "image/png": {
       "width": 376,
       "height": 278
      }
     },
     "output_type": "display_data"
    }
   ],
   "execution_count": null
  },
  {
   "cell_type": "markdown",
   "metadata": {
    "cell_id": "00018-9c778ff7-9011-458b-87d2-9b2972511a73",
    "deepnote_output_heights": [
     null,
     280
    ],
    "deepnote_to_be_reexecuted": false,
    "execution_millis": 4563,
    "execution_start": 1638752558279,
    "source_hash": "4fdb1c3c",
    "tags": [],
    "deepnote_cell_type": "code"
   },
   "source": [
    "12/10/21 Notes:\n",
    "\n",
    "* Last time we talked: key point is \"why do I need these datasets specifically? Can I just use a toy dataset like MNIST?\"\n",
    "* Paper cites examples like \"Invariant risk minimization\" of people already doing that, which is what makes this paper novel\n",
    "* What I've tried:\n",
    "    * scatterplot example using Empirical Risk Minimization vs. using CORAL\n",
    "    * iwildcam using custom small NN, iwildcam using ResNet50. Results are only relatively useful when using the big pre-trained model.\n",
    "* Idea:\n",
    "    * Play around with architectures? Perhaps the effects differ depending on how many nodes/params\n",
    "* Feedback:\n",
    "    * More vs less separated in CORAL\n",
    "    * Check different dimensionalities\n",
    "    * Visualize separations of classes\n",
    "    * Many clusters, high decision boundary\n",
    "    * Transform the wilds datasets (downsample, saturate, etc.)\n",
    "    * Datasets don't capture every possible domain shift\n",
    "    * PCA. TSNE, Clusters"
   ]
  },
  {
   "cell_type": "markdown",
   "source": "<a style='text-decoration:none;line-height:16px;display:flex;color:#5B5B62;padding:10px;justify-content:end;' href='https://deepnote.com?utm_source=created-in-deepnote-cell&projectId=80cb1556-c762-4c6a-89b8-6410c844af03' target=\"_blank\">\n<img alt='Created in deepnote.com' style='display:inline;max-height:16px;margin:0px;margin-right:7.5px;' src='data:image/svg+xml;base64,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' > </img>\nCreated in <span style='font-weight:600;margin-left:4px;'>Deepnote</span></a>",
   "metadata": {
    "tags": [],
    "created_in_deepnote_cell": true,
    "deepnote_cell_type": "markdown"
   }
  }
 ],
 "nbformat": 4,
 "nbformat_minor": 4,
 "metadata": {
  "deepnote": {
   "is_reactive": false
  },
  "deepnote_execution_queue": [],
  "deepnote_notebook_id": "e72c7ba7-758b-4ca0-8238-b51cffa42677",
  "interpreter": {
   "hash": "155e20831d8ddcd09d5f2e2b0407ff00a756432166f0ea923f961b2fa55a6b90"
  },
  "kernelspec": {
   "display_name": "Python 3 (ipykernel)",
   "language": "python",
   "name": "python3"
  },
  "language_info": {
   "codemirror_mode": {
    "name": "ipython",
    "version": 3
   },
   "file_extension": ".py",
   "mimetype": "text/x-python",
   "name": "python",
   "nbconvert_exporter": "python",
   "pygments_lexer": "ipython3",
   "version": "3.9.7"
  }
 }
}