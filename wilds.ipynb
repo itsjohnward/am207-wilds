{
 "cells": [
  {
   "cell_type": "markdown",
   "source": "# A Review of [WILDS: A Benchmark of in-the-Wild Distribution Shifts](https://arxiv.org/pdf/2012.07421.pdf)",
   "metadata": {
    "cell_id": "00000-af0540d7-68c3-42dd-b2e2-aebb2b681397",
    "tags": [],
    "deepnote_cell_type": "markdown"
   }
  },
  {
   "cell_type": "code",
   "metadata": {
    "tags": [],
    "cell_id": "00001-24150fec-3b71-4715-a8ca-a04c237e1e91",
    "deepnote_to_be_reexecuted": false,
    "source_hash": "59c022cc",
    "execution_start": 1637535991176,
    "execution_millis": 21902,
    "deepnote_cell_type": "code"
   },
   "source": "! pip install wilds",
   "execution_count": null,
   "outputs": [
    {
     "name": "stdout",
     "text": "Collecting wilds\n  Downloading wilds-1.2.2-py3-none-any.whl (92 kB)\n\u001b[K     |████████████████████████████████| 92 kB 316 kB/s \n\u001b[?25hCollecting ogb>=1.2.6\n  Downloading ogb-1.3.2-py3-none-any.whl (78 kB)\n\u001b[K     |████████████████████████████████| 78 kB 2.2 MB/s \n\u001b[?25hRequirement already satisfied: tqdm>=4.53.0 in /shared-libs/python3.7/py/lib/python3.7/site-packages (from wilds) (4.62.3)\nRequirement already satisfied: scikit-learn>=0.20.0 in /shared-libs/python3.7/py/lib/python3.7/site-packages (from wilds) (1.0.1)\nRequirement already satisfied: pillow>=7.2.0 in /shared-libs/python3.7/py/lib/python3.7/site-packages (from wilds) (8.4.0)\nRequirement already satisfied: numpy>=1.19.1 in /shared-libs/python3.7/py/lib/python3.7/site-packages (from wilds) (1.19.5)\nRequirement already satisfied: torch>=1.7.0 in /shared-libs/python3.7/py/lib/python3.7/site-packages (from wilds) (1.10.0)\nRequirement already satisfied: pandas>=1.1.0 in /shared-libs/python3.7/py/lib/python3.7/site-packages (from wilds) (1.2.5)\nRequirement already satisfied: scipy>=1.5.4 in /shared-libs/python3.7/py/lib/python3.7/site-packages (from wilds) (1.7.2)\nCollecting outdated>=0.2.0\n  Downloading outdated-0.2.1-py3-none-any.whl (7.5 kB)\nRequirement already satisfied: pytz>=2020.4 in /shared-libs/python3.7/py/lib/python3.7/site-packages (from wilds) (2021.3)\nRequirement already satisfied: torchvision>=0.8.2 in /shared-libs/python3.7/py/lib/python3.7/site-packages (from wilds) (0.11.1)\nRequirement already satisfied: six>=1.12.0 in /shared-libs/python3.7/py-core/lib/python3.7/site-packages (from ogb>=1.2.6->wilds) (1.16.0)\nRequirement already satisfied: urllib3>=1.24.0 in /shared-libs/python3.7/py/lib/python3.7/site-packages (from ogb>=1.2.6->wilds) (1.26.7)\nRequirement already satisfied: threadpoolctl>=2.0.0 in /shared-libs/python3.7/py/lib/python3.7/site-packages (from scikit-learn>=0.20.0->wilds) (3.0.0)\nRequirement already satisfied: joblib>=0.11 in /shared-libs/python3.7/py/lib/python3.7/site-packages (from scikit-learn>=0.20.0->wilds) (1.1.0)\nRequirement already satisfied: typing-extensions in /shared-libs/python3.7/py-core/lib/python3.7/site-packages (from torch>=1.7.0->wilds) (3.10.0.2)\nRequirement already satisfied: python-dateutil>=2.7.3 in /shared-libs/python3.7/py-core/lib/python3.7/site-packages (from pandas>=1.1.0->wilds) (2.8.2)\nCollecting littleutils\n  Downloading littleutils-0.2.2.tar.gz (6.6 kB)\nRequirement already satisfied: requests in /shared-libs/python3.7/py/lib/python3.7/site-packages (from outdated>=0.2.0->wilds) (2.26.0)\nRequirement already satisfied: idna<4,>=2.5; python_version >= \"3\" in /shared-libs/python3.7/py-core/lib/python3.7/site-packages (from requests->outdated>=0.2.0->wilds) (3.3)\nRequirement already satisfied: certifi>=2017.4.17 in /shared-libs/python3.7/py/lib/python3.7/site-packages (from requests->outdated>=0.2.0->wilds) (2021.10.8)\nRequirement already satisfied: charset-normalizer~=2.0.0; python_version >= \"3\" in /shared-libs/python3.7/py-core/lib/python3.7/site-packages (from requests->outdated>=0.2.0->wilds) (2.0.7)\nBuilding wheels for collected packages: littleutils\n  Building wheel for littleutils (setup.py) ... \u001b[?25ldone\n\u001b[?25h  Created wheel for littleutils: filename=littleutils-0.2.2-py3-none-any.whl size=7048 sha256=87498b4fcccb3940a2c577ff359dfdfd09011fc10422496a4cb70e2ff3a59ab0\n  Stored in directory: /root/.cache/pip/wheels/d6/64/cd/32819b511a488e4993f2fab909a95330289c3f4e0f6ef4676d\nSuccessfully built littleutils\nInstalling collected packages: littleutils, outdated, ogb, wilds\nSuccessfully installed littleutils-0.2.2 ogb-1.3.2 outdated-0.2.1 wilds-1.2.2\n\u001b[33mWARNING: You are using pip version 20.1.1; however, version 21.3.1 is available.\nYou should consider upgrading via the '/root/venv/bin/python -m pip install --upgrade pip' command.\u001b[0m\n",
     "output_type": "stream"
    }
   ]
  },
  {
   "cell_type": "code",
   "metadata": {
    "tags": [],
    "cell_id": "00001-0f96a206-3db2-4999-9078-7b4437e650d2",
    "deepnote_to_be_reexecuted": false,
    "source_hash": "2a45fd50",
    "execution_start": 1637536019392,
    "execution_millis": 5697,
    "deepnote_cell_type": "code"
   },
   "source": "from wilds import get_dataset\nfrom wilds.common.data_loaders import get_train_loader\nfrom wilds.common.grouper import CombinatorialGrouper\nfrom wilds.common.data_loaders import get_eval_loader\n\nimport torchvision.transforms as transforms",
   "execution_count": null,
   "outputs": []
  },
  {
   "cell_type": "code",
   "metadata": {
    "cell_id": "00001-d7fbd11f-1695-4297-8115-258c4172060c",
    "deepnote_to_be_reexecuted": false,
    "execution_millis": 1,
    "execution_start": 1637536039974,
    "source_hash": "9dde6179",
    "tags": [],
    "deepnote_cell_type": "code"
   },
   "source": "# %load_ext autoreload\n# %autoreload 2\n\n# from wilds import get_dataset\n# from wilds.common.data_loaders import get_train_loader\n# import torchvision.transforms as transforms\n\n# # Load the full dataset, and download it if necessary\n# dataset = get_dataset(dataset='iwildcam', download=True)\n\n# # Get the training set\n# train_data = dataset.get_subset('train',\n#                                 transform=transforms.Compose([transforms.Resize((448,448)),\n#                                                               transforms.ToTensor()]))\n\n# # Prepare the standard data loader\n# train_loader = get_train_loader('standard', train_data, batch_size=16)",
   "execution_count": null,
   "outputs": []
  },
  {
   "cell_type": "code",
   "metadata": {
    "tags": [],
    "cell_id": "00003-3797d2c5-4b92-41e2-a5a9-0bde97f35e09",
    "deepnote_to_be_reexecuted": false,
    "source_hash": "b3a81b6d",
    "execution_start": 1637536332846,
    "execution_millis": 18631,
    "deepnote_cell_type": "code"
   },
   "source": "# Load the full dataset, and download it if necessary\ndataset = get_dataset(dataset='civilcomments', download=False)\n\n# Get the training set\n# train_data = dataset.get_subset('train',\n#                                 transform=transforms.Compose([transforms.Resize((448,448)),\n#                                                               transforms.ToTensor()]))\ntrain_data = dataset.get_subset('train')\n\n# Prepare the standard data loader\ntrain_loader = get_train_loader('standard', train_data, batch_size=16)",
   "execution_count": null,
   "outputs": []
  },
  {
   "cell_type": "markdown",
   "source": "Implement ERM algorithm on the benchmark, trying to see whether it is robust to distribution shifts:",
   "metadata": {
    "tags": [],
    "cell_id": "00003-09c11e53-58f0-45a4-a30e-5c39e2a0433d",
    "deepnote_cell_type": "markdown"
   }
  },
  {
   "cell_type": "code",
   "metadata": {
    "cell_id": "00003-3af6eb84-7d61-4a0a-8b3e-551528108296",
    "deepnote_to_be_reexecuted": false,
    "source_hash": "185db386",
    "execution_start": 1637536128970,
    "execution_millis": 68,
    "deepnote_cell_type": "code"
   },
   "source": "import src\n\nsrc.run_experiment({\n    'dataset': 'civilcomments',\n    'full_dataset': dataset,\n    'algorithm': 'ERM',\n    'root_dir': 'data',\n    'progress_bar': True,\n    'frac': 0.001,\n    'n_epochs': 1\n})",
   "execution_count": null,
   "outputs": [
    {
     "output_type": "error",
     "ename": "ModuleNotFoundError",
     "evalue": "No module named 'wilds.examples'",
     "traceback": [
      "\u001b[0;31m---------------------------------------------------------------------------\u001b[0m",
      "\u001b[0;31mModuleNotFoundError\u001b[0m                       Traceback (most recent call last)",
      "\u001b[0;32m<ipython-input-8-6f8f2b0daf61>\u001b[0m in \u001b[0;36m<module>\u001b[0;34m\u001b[0m\n\u001b[0;32m----> 1\u001b[0;31m \u001b[0;32mimport\u001b[0m \u001b[0msrc\u001b[0m\u001b[0;34m\u001b[0m\u001b[0;34m\u001b[0m\u001b[0m\n\u001b[0m\u001b[1;32m      2\u001b[0m \u001b[0;34m\u001b[0m\u001b[0m\n\u001b[1;32m      3\u001b[0m src.run_experiment({\n\u001b[1;32m      4\u001b[0m     \u001b[0;34m'dataset'\u001b[0m\u001b[0;34m:\u001b[0m \u001b[0;34m'civilcomments'\u001b[0m\u001b[0;34m,\u001b[0m\u001b[0;34m\u001b[0m\u001b[0;34m\u001b[0m\u001b[0m\n\u001b[1;32m      5\u001b[0m     \u001b[0;34m'full_dataset'\u001b[0m\u001b[0;34m:\u001b[0m \u001b[0mdataset\u001b[0m\u001b[0;34m,\u001b[0m\u001b[0;34m\u001b[0m\u001b[0;34m\u001b[0m\u001b[0m\n",
      "\u001b[0;32m/work/am207-wilds/src.py\u001b[0m in \u001b[0;36m<module>\u001b[0;34m\u001b[0m\n\u001b[1;32m     15\u001b[0m \u001b[0;32mfrom\u001b[0m \u001b[0mwilds\u001b[0m\u001b[0;34m.\u001b[0m\u001b[0mcommon\u001b[0m\u001b[0;34m.\u001b[0m\u001b[0mgrouper\u001b[0m \u001b[0;32mimport\u001b[0m \u001b[0mCombinatorialGrouper\u001b[0m\u001b[0;34m\u001b[0m\u001b[0;34m\u001b[0m\u001b[0m\n\u001b[1;32m     16\u001b[0m \u001b[0;34m\u001b[0m\u001b[0m\n\u001b[0;32m---> 17\u001b[0;31m \u001b[0;32mfrom\u001b[0m \u001b[0mwilds\u001b[0m\u001b[0;34m.\u001b[0m\u001b[0mexamples\u001b[0m\u001b[0;34m.\u001b[0m\u001b[0mutils\u001b[0m \u001b[0;32mimport\u001b[0m \u001b[0mset_seed\u001b[0m\u001b[0;34m,\u001b[0m \u001b[0mLogger\u001b[0m\u001b[0;34m,\u001b[0m \u001b[0mBatchLogger\u001b[0m\u001b[0;34m,\u001b[0m \u001b[0mlog_config\u001b[0m\u001b[0;34m,\u001b[0m \u001b[0mParseKwargs\u001b[0m\u001b[0;34m,\u001b[0m \u001b[0mload\u001b[0m\u001b[0;34m,\u001b[0m \u001b[0minitialize_wandb\u001b[0m\u001b[0;34m,\u001b[0m \u001b[0mlog_group_data\u001b[0m\u001b[0;34m,\u001b[0m \u001b[0mparse_bool\u001b[0m\u001b[0;34m,\u001b[0m \u001b[0mget_model_prefix\u001b[0m\u001b[0;34m\u001b[0m\u001b[0;34m\u001b[0m\u001b[0m\n\u001b[0m\u001b[1;32m     18\u001b[0m \u001b[0;32mfrom\u001b[0m \u001b[0mwilds\u001b[0m\u001b[0;34m.\u001b[0m\u001b[0mexamples\u001b[0m\u001b[0;34m.\u001b[0m\u001b[0mtrain\u001b[0m \u001b[0;32mimport\u001b[0m \u001b[0mtrain\u001b[0m\u001b[0;34m,\u001b[0m \u001b[0mevaluate\u001b[0m\u001b[0;34m\u001b[0m\u001b[0;34m\u001b[0m\u001b[0m\n\u001b[1;32m     19\u001b[0m \u001b[0;32mfrom\u001b[0m \u001b[0mwilds\u001b[0m\u001b[0;34m.\u001b[0m\u001b[0mexamples\u001b[0m\u001b[0;34m.\u001b[0m\u001b[0malgorithms\u001b[0m\u001b[0;34m.\u001b[0m\u001b[0minitializer\u001b[0m \u001b[0;32mimport\u001b[0m \u001b[0minitialize_algorithm\u001b[0m\u001b[0;34m\u001b[0m\u001b[0;34m\u001b[0m\u001b[0m\n",
      "\u001b[0;31mModuleNotFoundError\u001b[0m: No module named 'wilds.examples'"
     ]
    }
   ]
  },
  {
   "cell_type": "markdown",
   "source": "**implementation in progress: more advanced algorithms such as CORAL/IRM/Group DRO; see if they're better than ERM wrt Out of Distribution performance**",
   "metadata": {
    "tags": [],
    "cell_id": "00005-5c142e12-3f01-4935-b59f-be281f74ed47",
    "deepnote_cell_type": "markdown"
   }
  },
  {
   "cell_type": "markdown",
   "source": "## A toy example of distribution shift",
   "metadata": {
    "tags": [],
    "cell_id": "00008-149f3eba-26ed-464a-8c0b-dde2ca9523d0",
    "deepnote_cell_type": "markdown"
   }
  },
  {
   "cell_type": "code",
   "metadata": {
    "cell_id": "00004-2e685bc6-3345-4490-bd4a-4e6a5964ce57",
    "deepnote_output_heights": [
     21.1875,
     359
    ],
    "deepnote_cell_type": "code"
   },
   "source": "import numpy as np\nfrom scipy.stats import norm\nimport matplotlib.pyplot as plt\n\nloc1, scale1, size1 = (-2, 1, 175)\nloc2, scale2, size2 = (2, 0.2, 50)\n\nx2 = np.concatenate([np.random.normal(loc=loc1, scale=scale1, size=size1),\n                     np.random.normal(loc=loc2, scale=scale2, size=size2)])\nx_eval = np.linspace(x2.min() - 1, x2.max() + 1, 500)\nX_train = x_eval[:375]\nX_test = x_eval[375:]\n\nbimodal_pdf = (norm.pdf(x_eval, loc=loc1, scale=scale1) * float(size1) / x2.size\n               + norm.pdf(x_eval, loc=loc2, scale=scale2) * float(size2) / x2.size)\n\nfig = plt.figure(figsize=(8, 6))\nax = fig.add_subplot(111)\nax.plot(x_eval, bimodal_pdf, 'r--', label=\"Actual PDF\")\nax.fill_between(X_train, bimodal_pdf[:375])\nax.fill_between(X_test, bimodal_pdf[375:])\n\nax.plot()\n",
   "execution_count": null,
   "outputs": [
    {
     "data": {
      "text/plain": "[]"
     },
     "execution_count": 4,
     "metadata": {},
     "output_type": "execute_result"
    },
    {
     "data": {
      "image/png": "[encoded data removed]",
      "text/plain": "<Figure size 576x432 with 1 Axes>"
     },
     "metadata": {
      "needs_background": "light",
      "image/png": {
       "width": 483,
       "height": 357
      }
     },
     "output_type": "display_data"
    }
   ]
  },
  {
   "cell_type": "code",
   "metadata": {
    "cell_id": "00005-8ce4e00e-5a0f-4660-b8fd-e6fd666ef573",
    "deepnote_cell_type": "code"
   },
   "source": "src.run_experiment({\n    'dataset': 'iwildcam',\n    'full_dataset': bimodal_pdf,\n    'algorithm': 'ERM',\n    'root_dir': 'data',\n    'progress_bar': True,\n    'frac': 0.001,\n    'n_epochs': 1\n})",
   "execution_count": null,
   "outputs": [
    {
     "name": "stdout",
     "output_type": "stream",
     "text": "Dataset: iwildcam\nFull dataset: [6.84097403e-04 7.29381034e-04 7.77399730e-04 8.28300072e-04\n 8.82235252e-04 9.39365292e-04 9.99857265e-04 1.06388552e-03\n 1.13163191e-03 1.20328600e-03 1.27904534e-03 1.35911563e-03\n 1.44371102e-03 1.53305427e-03 1.62737704e-03 1.72692004e-03\n 1.83193336e-03 1.94267660e-03 2.05941911e-03 2.18244026e-03\n 2.31202957e-03 2.44848697e-03 2.59212300e-03 2.74325898e-03\n 2.90222719e-03 3.06937109e-03 3.24504546e-03 3.42961655e-03\n 3.62346225e-03 3.82697223e-03 4.04054804e-03 4.26460325e-03\n 4.49956352e-03 4.74586669e-03 5.00396285e-03 5.27431439e-03\n 5.55739601e-03 5.85369473e-03 6.16370990e-03 6.48795315e-03\n 6.82694830e-03 7.18123134e-03 7.55135027e-03 7.93786499e-03\n 8.34134713e-03 8.76237985e-03 9.20155766e-03 9.65948611e-03\n 1.01367815e-02 1.06340708e-02 1.11519907e-02 1.16911881e-02\n 1.22523189e-02 1.28360479e-02 1.34430483e-02 1.40740013e-02\n 1.47295950e-02 1.54105245e-02 1.61174908e-02 1.68512001e-02\n 1.76123632e-02 1.84016949e-02 1.92199128e-02 2.00677368e-02\n 2.09458878e-02 2.18550872e-02 2.27960556e-02 2.37695121e-02\n 2.47761728e-02 2.58167501e-02 2.68919512e-02 2.80024772e-02\n 2.91490217e-02 3.03322698e-02 3.15528964e-02 3.28115651e-02\n 3.41089269e-02 3.54456187e-02 3.68222617e-02 3.82394603e-02\n 3.96978002e-02 4.11978473e-02 4.27401459e-02 4.43252172e-02\n 4.59535575e-02 4.76256371e-02 4.93418982e-02 5.11027536e-02\n 5.29085849e-02 5.47597408e-02 5.66565358e-02 5.85992481e-02\n 6.05881184e-02 6.26233478e-02 6.47050969e-02 6.68334833e-02\n 6.90085808e-02 7.12304175e-02 7.34989743e-02 7.58141834e-02\n 7.81759268e-02 8.05840352e-02 8.30382861e-02 8.55384030e-02\n 8.80840537e-02 9.06748493e-02 9.33103432e-02 9.59900295e-02\n 9.87133427e-02 1.01479656e-01 1.04288281e-01 1.07138466e-01\n 1.10029398e-01 1.12960197e-01 1.15929921e-01 1.18937563e-01\n 1.21982049e-01 1.25062241e-01 1.28176936e-01 1.31324863e-01\n 1.34504689e-01 1.37715013e-01 1.40954369e-01 1.44221229e-01\n 1.47513999e-01 1.50831023e-01 1.54170581e-01 1.57530894e-01\n 1.60910120e-01 1.64306361e-01 1.67717658e-01 1.71141997e-01\n 1.74577309e-01 1.78021473e-01 1.81472315e-01 1.84927613e-01\n 1.88385096e-01 1.91842451e-01 1.95297319e-01 1.98747303e-01\n 2.02189966e-01 2.05622839e-01 2.09043417e-01 2.12449168e-01\n 2.15837533e-01 2.19205930e-01 2.22551754e-01 2.25872385e-01\n 2.29165191e-01 2.32427525e-01 2.35656736e-01 2.38850169e-01\n 2.42005170e-01 2.45119085e-01 2.48189273e-01 2.51213098e-01\n 2.54187943e-01 2.57111209e-01 2.59980315e-01 2.62792713e-01\n 2.65545877e-01 2.68237321e-01 2.70864593e-01 2.73425281e-01\n 2.75917020e-01 2.78337491e-01 2.80684429e-01 2.82955623e-01\n 2.85148919e-01 2.87262229e-01 2.89293527e-01 2.91240857e-01\n 2.93102336e-01 2.94876154e-01 2.96560580e-01 2.98153962e-01\n 2.99654733e-01 3.01061412e-01 3.02372604e-01 3.03587007e-01\n 3.04703411e-01 3.05720700e-01 3.06637856e-01 3.07453958e-01\n 3.08168185e-01 3.08779819e-01 3.09288242e-01 3.09692941e-01\n 3.09993507e-01 3.10189636e-01 3.10281129e-01 3.10267894e-01\n 3.10149943e-01 3.09927397e-01 3.09600481e-01 3.09169525e-01\n 3.08634965e-01 3.07997341e-01 3.07257295e-01 3.06415572e-01\n 3.05473019e-01 3.04430581e-01 3.03289301e-01 3.02050318e-01\n 3.00714867e-01 2.99284274e-01 2.97759954e-01 2.96143411e-01\n 2.94436234e-01 2.92640095e-01 2.90756745e-01 2.88788013e-01\n 2.86735801e-01 2.84602083e-01 2.82388899e-01 2.80098358e-01\n 2.77732625e-01 2.75293926e-01 2.72784541e-01 2.70206800e-01\n 2.67563081e-01 2.64855805e-01 2.62087434e-01 2.59260466e-01\n 2.56377429e-01 2.53440884e-01 2.50453414e-01 2.47417623e-01\n 2.44336136e-01 2.41211586e-01 2.38046622e-01 2.34843896e-01\n 2.31606063e-01 2.28335778e-01 2.25035691e-01 2.21708444e-01\n 2.18356669e-01 2.14982981e-01 2.11589979e-01 2.08180239e-01\n 2.04756316e-01 2.01320734e-01 1.97875988e-01 1.94424542e-01\n 1.90968820e-01 1.87511212e-01 1.84054064e-01 1.80599680e-01\n 1.77150318e-01 1.73708188e-01 1.70275450e-01 1.66854214e-01\n 1.63446535e-01 1.60054411e-01 1.56679788e-01 1.53324549e-01\n 1.49990520e-01 1.46679466e-01 1.43393090e-01 1.40133033e-01\n 1.36900872e-01 1.33698121e-01 1.30526227e-01 1.27386575e-01\n 1.24280483e-01 1.21209203e-01 1.18173924e-01 1.15175766e-01\n 1.12215787e-01 1.09294977e-01 1.06414263e-01 1.03574506e-01\n 1.00776506e-01 9.80209979e-02 9.53086538e-02 9.26400850e-02\n 9.00158423e-02 8.74364162e-02 8.49022387e-02 8.24136843e-02\n 7.99710710e-02 7.75746614e-02 7.52246646e-02 7.29212368e-02\n 7.06644830e-02 6.84544587e-02 6.62911709e-02 6.41745798e-02\n 6.21046004e-02 6.00811040e-02 5.81039198e-02 5.61728363e-02\n 5.42876033e-02 5.24479333e-02 5.06535029e-02 4.89039551e-02\n 4.71989000e-02 4.55379175e-02 4.39205580e-02 4.23463445e-02\n 4.08147742e-02 3.93253199e-02 3.78774318e-02 3.64705389e-02\n 3.51040504e-02 3.37773578e-02 3.24898355e-02 3.12408431e-02\n 3.00297262e-02 2.88558183e-02 2.77184417e-02 2.66169092e-02\n 2.55505250e-02 2.45185864e-02 2.35203848e-02 2.25552067e-02\n 2.16223351e-02 2.07210507e-02 1.98506323e-02 1.90103587e-02\n 1.81995090e-02 1.74173640e-02 1.66632066e-02 1.59363230e-02\n 1.52360034e-02 1.45615430e-02 1.39122420e-02 1.32874073e-02\n 1.26863522e-02 1.21083976e-02 1.15528725e-02 1.10191141e-02\n 1.05064688e-02 1.00142924e-02 9.54195032e-03 9.08881850e-03\n 8.65428328e-03 8.23774189e-03 7.83860272e-03 7.45628555e-03\n 7.09022183e-03 6.73985484e-03 6.40463994e-03 6.08404478e-03\n 5.77754952e-03 5.48464719e-03 5.20484405e-03 4.93766025e-03\n 4.68263069e-03 4.43930642e-03 4.20725663e-03 3.98607183e-03\n 3.77536832e-03 3.57479508e-03 3.38404356e-03 3.20286199e-03\n 3.03107561e-03 2.86861532e-03 2.71555740e-03 2.57217825e-03\n 2.43902852e-03 2.31703264e-03 2.20762031e-03 2.11289827e-03\n 2.03587117e-03 1.98072182e-03 1.95316120e-03 1.96085876e-03\n 2.01396220e-03 2.12571424e-03 2.31316946e-03 2.59800938e-03\n 3.00744577e-03 3.57519259e-03 4.34247451e-03 5.35902618e-03\n 6.68402027e-03 8.38684642e-03 1.05476472e-02 1.32575039e-02\n 1.66181541e-02 2.07411214e-02 2.57461397e-02 3.17587704e-02\n 3.89071363e-02 4.73177356e-02 5.71103473e-02 6.83921071e-02\n 8.12508968e-02 9.57482724e-02 1.11912226e-01 1.29730145e-01\n 1.49142397e-01 1.70036978e-01 1.92245701e-01 2.15542346e-01\n 2.39643153e-01 2.64209937e-01 2.88855970e-01 3.13154635e-01\n 3.36650675e-01 3.58873689e-01 3.79353361e-01 3.97635750e-01\n 4.13299881e-01 4.25973787e-01 4.35349153e-01 4.41193767e-01\n 4.43361063e-01 4.41796216e-01 4.36538439e-01 4.27719338e-01\n 4.15557424e-01 4.00349113e-01 3.82456708e-01 3.62294069e-01\n 3.40310739e-01 3.16975393e-01 2.92759434e-01 2.68121542e-01\n 2.43493851e-01 2.19270296e-01 1.95797515e-01 1.73368497e-01\n 1.52219022e-01 1.32526742e-01 1.14412669e-01 9.79446930e-02\n 8.31427015e-02 6.99848576e-02 5.84145636e-02 4.83476935e-02\n 3.96797149e-02 3.22923929e-02 2.60598409e-02 2.08537586e-02\n 1.65477715e-02 1.30208478e-02 1.01598232e-02 7.86110356e-03\n 6.03164444e-03 4.58932209e-03 3.46281693e-03 2.59112771e-03\n 1.92282567e-03 1.41514516e-03 1.03299125e-03 7.47928881e-04\n 5.37202089e-04 3.82817353e-04 2.70712785e-04 1.90024359e-04\n 1.32452496e-04 9.17263188e-05 6.31589274e-05 4.32845440e-05\n 2.95672322e-05 2.01706246e-05 1.37785220e-05 9.45706812e-06\n 6.55028416e-06 4.60191500e-06 3.29769567e-06 2.42322611e-06\n 1.83360242e-06 1.43178030e-06 1.15333689e-06 9.55860189e-07\n 8.11642460e-07 7.02703970e-07 6.17440122e-07 5.48386327e-07\n 4.90743478e-07 4.41415133e-07 3.98385086e-07 3.60318890e-07\n 3.26311116e-07 2.95726455e-07 2.68100609e-07 2.43078878e-07\n 2.20378310e-07 1.99764400e-07 1.81036731e-07 1.64020036e-07\n 1.48558554e-07 1.34512352e-07 1.21754845e-07 1.10171028e-07\n 9.96561494e-08 9.01146611e-08 8.14593472e-08 7.36105745e-08\n 6.64956323e-08 6.00481401e-08 5.42075113e-08 4.89184642e-08\n 4.41305740e-08 3.97978623e-08 3.58784204e-08 3.23340632e-08]\nAlgorithm: ERM\nRoot dir: data\nProgress bar: True\nFrac: 0.001\nN epochs: 1\nLoss function: cross_entropy\nVal metric: F1-macro_all\nModel kwargs: {'pretrained': True}\nTransform: image_base\nTarget resolution: (448, 448)\nVal metric decreasing: False\nAlgo log metric: accuracy\nModel: resnet50\nLr: 3e-05\nWeight decay: 0.0\nBatch size: 16\nOptimizer: Adam\nSplit scheme: official\nScheduler: None\nGroupby fields: ['location']\nN groups per batch: 2\nIrm lambda: 1.0\nCoral penalty weight: 10.0\nNo group logging: True\nProcess outputs function: multiclass_logits_to_pred\nTrain loader: standard\nUniform over groups: False\nEval loader: standard\nLoader kwargs: {'num_workers': 4, 'pin_memory': True}\nDataset kwargs: {}\nDownload: False\nVersion: None\nLoss kwargs: {}\nOptimizer kwargs: {}\nScheduler kwargs: {}\nScheduler metric split: val\nEvaluate all splits: True\nEval splits: []\nEval only: False\nEval epoch: None\nDevice: cpu\nSeed: 0\nLog dir: ./logs\nLog every: 50\nSave best: True\nSave last: True\nSave pred: True\nUse wandb: False\nResume: False\n\ndataset\n"
    },
    {
     "ename": "AttributeError",
     "evalue": "'numpy.ndarray' object has no attribute 'original_resolution'",
     "output_type": "error",
     "traceback": [
      "\u001b[0;31m---------------------------------------------------------------------------\u001b[0m",
      "\u001b[0;31mAttributeError\u001b[0m                            Traceback (most recent call last)",
      "\u001b[0;32m/var/folders/mz/ttffhl5548qch24wt3gcjpm40000gn/T/ipykernel_25059/494820464.py\u001b[0m in \u001b[0;36m<module>\u001b[0;34m\u001b[0m\n\u001b[0;32m----> 1\u001b[0;31m src.run_experiment({\n\u001b[0m\u001b[1;32m      2\u001b[0m     \u001b[0;34m'dataset'\u001b[0m\u001b[0;34m:\u001b[0m \u001b[0;34m'iwildcam'\u001b[0m\u001b[0;34m,\u001b[0m\u001b[0;34m\u001b[0m\u001b[0;34m\u001b[0m\u001b[0m\n\u001b[1;32m      3\u001b[0m     \u001b[0;34m'full_dataset'\u001b[0m\u001b[0;34m:\u001b[0m \u001b[0mbimodal_pdf\u001b[0m\u001b[0;34m,\u001b[0m\u001b[0;34m\u001b[0m\u001b[0;34m\u001b[0m\u001b[0m\n\u001b[1;32m      4\u001b[0m     \u001b[0;34m'algorithm'\u001b[0m\u001b[0;34m:\u001b[0m \u001b[0;34m'ERM'\u001b[0m\u001b[0;34m,\u001b[0m\u001b[0;34m\u001b[0m\u001b[0;34m\u001b[0m\u001b[0m\n\u001b[1;32m      5\u001b[0m     \u001b[0;34m'root_dir'\u001b[0m\u001b[0;34m:\u001b[0m \u001b[0;34m'data'\u001b[0m\u001b[0;34m,\u001b[0m\u001b[0;34m\u001b[0m\u001b[0;34m\u001b[0m\u001b[0m\n",
      "\u001b[0;32m~/am207-wilds/src.py\u001b[0m in \u001b[0;36mrun_experiment\u001b[0;34m(config)\u001b[0m\n\u001b[1;32m     74\u001b[0m     \u001b[0;31m# If you want to use transforms that modify both `x` and `y`,\u001b[0m\u001b[0;34m\u001b[0m\u001b[0;34m\u001b[0m\u001b[0m\n\u001b[1;32m     75\u001b[0m     \u001b[0;31m# set `do_transform_y` to True when initializing the `WILDSSubset` below.\u001b[0m\u001b[0;34m\u001b[0m\u001b[0;34m\u001b[0m\u001b[0m\n\u001b[0;32m---> 76\u001b[0;31m     train_transform = initialize_transform(\n\u001b[0m\u001b[1;32m     77\u001b[0m         \u001b[0mtransform_name\u001b[0m\u001b[0;34m=\u001b[0m\u001b[0mconfig\u001b[0m\u001b[0;34m.\u001b[0m\u001b[0mget\u001b[0m\u001b[0;34m(\u001b[0m\u001b[0;34m'transform'\u001b[0m\u001b[0;34m)\u001b[0m\u001b[0;34m,\u001b[0m\u001b[0;34m\u001b[0m\u001b[0;34m\u001b[0m\u001b[0m\n\u001b[1;32m     78\u001b[0m         \u001b[0mconfig\u001b[0m\u001b[0;34m=\u001b[0m\u001b[0mconfig\u001b[0m\u001b[0;34m,\u001b[0m\u001b[0;34m\u001b[0m\u001b[0;34m\u001b[0m\u001b[0m\n",
      "\u001b[0;32m~/wilds/wilds/examples/transforms.py\u001b[0m in \u001b[0;36minitialize_transform\u001b[0;34m(transform_name, config, dataset, is_training)\u001b[0m\n\u001b[1;32m     17\u001b[0m         \u001b[0;32mreturn\u001b[0m \u001b[0minitialize_bert_transform\u001b[0m\u001b[0;34m(\u001b[0m\u001b[0mconfig\u001b[0m\u001b[0;34m)\u001b[0m\u001b[0;34m\u001b[0m\u001b[0;34m\u001b[0m\u001b[0m\n\u001b[1;32m     18\u001b[0m     \u001b[0;32melif\u001b[0m \u001b[0mtransform_name\u001b[0m\u001b[0;34m==\u001b[0m\u001b[0;34m'image_base'\u001b[0m\u001b[0;34m:\u001b[0m\u001b[0;34m\u001b[0m\u001b[0;34m\u001b[0m\u001b[0m\n\u001b[0;32m---> 19\u001b[0;31m         \u001b[0;32mreturn\u001b[0m \u001b[0minitialize_image_base_transform\u001b[0m\u001b[0;34m(\u001b[0m\u001b[0mconfig\u001b[0m\u001b[0;34m,\u001b[0m \u001b[0mdataset\u001b[0m\u001b[0;34m)\u001b[0m\u001b[0;34m\u001b[0m\u001b[0;34m\u001b[0m\u001b[0m\n\u001b[0m\u001b[1;32m     20\u001b[0m     \u001b[0;32melif\u001b[0m \u001b[0mtransform_name\u001b[0m\u001b[0;34m==\u001b[0m\u001b[0;34m'image_resize_and_center_crop'\u001b[0m\u001b[0;34m:\u001b[0m\u001b[0;34m\u001b[0m\u001b[0;34m\u001b[0m\u001b[0m\n\u001b[1;32m     21\u001b[0m         \u001b[0;32mreturn\u001b[0m \u001b[0minitialize_image_resize_and_center_crop_transform\u001b[0m\u001b[0;34m(\u001b[0m\u001b[0mconfig\u001b[0m\u001b[0;34m,\u001b[0m \u001b[0mdataset\u001b[0m\u001b[0;34m)\u001b[0m\u001b[0;34m\u001b[0m\u001b[0;34m\u001b[0m\u001b[0m\n",
      "\u001b[0;32m~/wilds/wilds/examples/transforms.py\u001b[0m in \u001b[0;36minitialize_image_base_transform\u001b[0;34m(config, dataset)\u001b[0m\n\u001b[1;32m     66\u001b[0m \u001b[0;32mdef\u001b[0m \u001b[0minitialize_image_base_transform\u001b[0m\u001b[0;34m(\u001b[0m\u001b[0mconfig\u001b[0m\u001b[0;34m,\u001b[0m \u001b[0mdataset\u001b[0m\u001b[0;34m)\u001b[0m\u001b[0;34m:\u001b[0m\u001b[0;34m\u001b[0m\u001b[0;34m\u001b[0m\u001b[0m\n\u001b[1;32m     67\u001b[0m     \u001b[0mtransform_steps\u001b[0m \u001b[0;34m=\u001b[0m \u001b[0;34m[\u001b[0m\u001b[0;34m]\u001b[0m\u001b[0;34m\u001b[0m\u001b[0;34m\u001b[0m\u001b[0m\n\u001b[0;32m---> 68\u001b[0;31m     \u001b[0;32mif\u001b[0m \u001b[0mdataset\u001b[0m\u001b[0;34m.\u001b[0m\u001b[0moriginal_resolution\u001b[0m \u001b[0;32mis\u001b[0m \u001b[0;32mnot\u001b[0m \u001b[0;32mNone\u001b[0m \u001b[0;32mand\u001b[0m \u001b[0mmin\u001b[0m\u001b[0;34m(\u001b[0m\u001b[0mdataset\u001b[0m\u001b[0;34m.\u001b[0m\u001b[0moriginal_resolution\u001b[0m\u001b[0;34m)\u001b[0m\u001b[0;34m!=\u001b[0m\u001b[0mmax\u001b[0m\u001b[0;34m(\u001b[0m\u001b[0mdataset\u001b[0m\u001b[0;34m.\u001b[0m\u001b[0moriginal_resolution\u001b[0m\u001b[0;34m)\u001b[0m\u001b[0;34m:\u001b[0m\u001b[0;34m\u001b[0m\u001b[0;34m\u001b[0m\u001b[0m\n\u001b[0m\u001b[1;32m     69\u001b[0m         \u001b[0mcrop_size\u001b[0m \u001b[0;34m=\u001b[0m \u001b[0mmin\u001b[0m\u001b[0;34m(\u001b[0m\u001b[0mdataset\u001b[0m\u001b[0;34m.\u001b[0m\u001b[0moriginal_resolution\u001b[0m\u001b[0;34m)\u001b[0m\u001b[0;34m\u001b[0m\u001b[0;34m\u001b[0m\u001b[0m\n\u001b[1;32m     70\u001b[0m         \u001b[0mtransform_steps\u001b[0m\u001b[0;34m.\u001b[0m\u001b[0mappend\u001b[0m\u001b[0;34m(\u001b[0m\u001b[0mtransforms\u001b[0m\u001b[0;34m.\u001b[0m\u001b[0mCenterCrop\u001b[0m\u001b[0;34m(\u001b[0m\u001b[0mcrop_size\u001b[0m\u001b[0;34m)\u001b[0m\u001b[0;34m)\u001b[0m\u001b[0;34m\u001b[0m\u001b[0;34m\u001b[0m\u001b[0m\n",
      "\u001b[0;31mAttributeError\u001b[0m: 'numpy.ndarray' object has no attribute 'original_resolution'"
     ]
    }
   ]
  },
  {
   "cell_type": "code",
   "metadata": {
    "tags": [],
    "cell_id": "00011-3834005c-fa5a-44a4-888a-fb6d201ced99",
    "deepnote_cell_type": "code"
   },
   "source": "from algorithms.ERM import ERM\n\nclass Config:\n    dataset\n    algorithm\n    root_dir\n    # Dataset\n    split_scheme\n    dataset_kwargs={}\n    download=False\n    frac=1.0,\n    version=None\n    # Loaders\n    loader_kwargs={}\n    train_loader\n    uniform_over_groups\n    distinct_groups\n    n_groups_per_batch\n    batch_size\n    eval_loader='standard'\n    # Model\n    model='logistic_regression'\n    model_kwargs={}\n    # Transforms\n    transform\n    target_resolution\n    resize_scale\n    max_token_length\n    # Objective\n    loss_function\n    loss_kwargs={}\n    # Algorithm\n    groupby_fields\n    group_dro_step_size\n    coral_penalty_weight\n    irm_lambda\n    irm_penalty_anneal_iters\n    algo_log_metric\n    # Model selection\n    val_metric\n    val_metric_decreasing\n    # Optimization\n    n_epochs\n    optimizer\n    lr\n    weight_decay\n    max_grad_norm\n    optimizer_kwargs={}\n    # Scheduler\n    scheduler\n    scheduler_kwargs={}\n    scheduler_metric_split='val'\n    scheduler_metric_name\n    # Evaluation\n    process_outputs_function\n    evaluate_all_splits=True\n    eval_splits=[]\n    eval_only=False\n    eval_epoch=None\n    # Misc\n    device=0\n    seed=0\n    log_dir='./logs'\n    log_every=50\n    save_step\n    save_best=True\n    save_last=True\n    save_pred=True\n    no_group_logging\n    use_wandb=False\n    progress_bar=False\n    resume=False\n\nconfig = populate_defaults(Config())\n\nERM(config=config,\n    d_out=d_out,\n    grouper=train_grouper,\n    loss=loss,\n    metric=metric,\n    n_train_steps=n_train_steps)",
   "execution_count": null,
   "outputs": []
  },
  {
   "cell_type": "markdown",
   "source": "### November 23, 2021 Questions For Professor\n\n* Jang's traveling, and it's going on 3am for Alex (Singapore)\n* Plumbing work so far:\n    * Make the library compatible with deepnote\n    * Datasets are too large for deepnote\n    * Convert command line interface to a callable method\n    * Make the library installable on m1 mac\n    * Need to run training on GPUs for many hours. Colab Pro? Any AWS credits?\n\n* Struggles:\n    * Ran CLI on 1% of a given dataset, and it took 20 minutes per epoch. So results were not that useful.\n    * How might I simulate distribution shifts in images?\n        * MNIST: train on particular digits\n        * why these datasets? Why not MNIST? DSprites\n        * HW7. Use scatterplot. If great there, why not images?\n\nCurrent plan:\n    * Should I be trying to do things exactly how the authors did, with their own code? Or should I write my own version of it?\n    * NN model architectures (DenseNet-121, ResNet, etc.). Can I use my own architecture?\n    * Is it sound to simply compare logistic regression with different loss measures?\n\nFailure case:\n\n* https://openreview.net/pdf?id=ryxGuJrFvS\n\n> upweighting fails on MultiNLI, achieving lower average and worst-group accuracies than even ERM. With upweighting, it appears that the rare group is overemphasized and extremely low training accuracy is achieved for that group at the cost of others",
   "metadata": {
    "tags": [],
    "cell_id": "00011-283dd4c5-0705-4390-9f1e-2b7b77c44893",
    "deepnote_cell_type": "markdown"
   }
  },
  {
   "cell_type": "markdown",
   "source": "",
   "metadata": {
    "tags": [],
    "cell_id": "00012-e7bb9832-71dc-47f9-a336-0af971784aec",
    "deepnote_cell_type": "markdown"
   }
  },
  {
   "cell_type": "markdown",
   "source": "",
   "metadata": {
    "tags": [],
    "cell_id": "00013-e48aaa7b-b6a7-44f8-a941-61a384ad3b03",
    "deepnote_cell_type": "markdown"
   }
  },
  {
   "cell_type": "markdown",
   "source": "",
   "metadata": {
    "tags": [],
    "cell_id": "00014-e759f21c-8f4a-4ef2-970f-6ed3a862d9c5",
    "deepnote_cell_type": "markdown"
   }
  },
  {
   "cell_type": "markdown",
   "source": "# The framework for final deliverables",
   "metadata": {
    "tags": [],
    "cell_id": "00015-8a1e76cc-6119-4926-9f11-a8ad9d1e9a52",
    "deepnote_cell_type": "markdown"
   }
  },
  {
   "cell_type": "markdown",
   "source": "## Problem statement\n> What is the problem the paper aims to solve?",
   "metadata": {
    "cell_id": "00000-426d3605-6dae-4a43-9129-c77b1f68f7dc",
    "tags": [],
    "deepnote_cell_type": "markdown"
   }
  },
  {
   "cell_type": "markdown",
   "source": "## Context/scope\n> Why is this problem important or interesting?",
   "metadata": {
    "cell_id": "00001-fe56e513-e36b-4b68-9ad1-f03c9d65bc2d",
    "tags": [],
    "deepnote_cell_type": "markdown"
   }
  },
  {
   "cell_type": "markdown",
   "source": "## Existing work\n> What has been done in literature?",
   "metadata": {
    "cell_id": "00002-9229c3e8-17f4-40b1-9225-eb01a9d14192",
    "tags": [],
    "deepnote_cell_type": "markdown"
   }
  },
  {
   "cell_type": "markdown",
   "source": "## Contribution\n> What is gap in literature that the paper is trying to fill? What is the unique contribution?",
   "metadata": {
    "cell_id": "00003-e863d573-8730-4195-baec-738f14c5dd0b",
    "tags": [],
    "deepnote_cell_type": "markdown"
   }
  },
  {
   "cell_type": "markdown",
   "source": "## Technical content (high level)\n\n> What are the high level ideas behind their technical contribution?\n\n### Distribution shifts\n\nWhere training distribution differs from the test distribution\n\n#### Domain Generalization\n\nTraining and test distributions comprise data from related but distinct domains\n\n#### Subpopulation Shift\n\nTest distributions that are subpopulations of the training distribution\n\n### ",
   "metadata": {
    "cell_id": "00004-6c2c33a6-b63c-4d76-9c40-fe98610e7e59",
    "tags": [],
    "deepnote_cell_type": "markdown"
   }
  },
  {
   "cell_type": "markdown",
   "source": "## Technical content (details)\n> Highlight (not copy and paste entire sections) the relevant details that are important to focus on (e.g. if there's a model, define it; if there is a theorem, state it and explain why it's important, etc).",
   "metadata": {
    "cell_id": "00005-ffe5e153-4b7d-4d62-95f7-805144fe6898",
    "tags": [],
    "deepnote_cell_type": "markdown"
   }
  },
  {
   "cell_type": "markdown",
   "source": "## Experiments\n> Which types of experiments were performed? What claims were these experiments trying to prove? Did the results prove the claims?",
   "metadata": {
    "cell_id": "00006-107636e1-60c3-40c7-b95c-62dc34547b1d",
    "tags": [],
    "deepnote_cell_type": "markdown"
   }
  },
  {
   "cell_type": "markdown",
   "source": "## Evaluation (your opinion)\n> Do you think the work is technically sound? Do you think the proposed model/inference method is practical to use on real data and tasks? Do you think the experimental section was strong (there are sufficient evidence to support the claims and eliminate confounding factors)?",
   "metadata": {
    "cell_id": "00007-4c5daff0-b01f-4c15-ab68-575b4eb87253",
    "tags": [],
    "deepnote_cell_type": "markdown"
   }
  },
  {
   "cell_type": "markdown",
   "source": "## Future work (for those interested in continuing research in a related field)\n> Do you think you can suggest a concrete change or modification that would improve the existing solution(s) to the problem of interest? Try to implement some of these changes/modifications.",
   "metadata": {
    "cell_id": "00008-40bb12bd-bf8d-4ac3-95ed-fc3ca98e048e",
    "tags": [],
    "deepnote_cell_type": "markdown"
   }
  },
  {
   "cell_type": "markdown",
   "source": "## Broader Impact\n> How does this work potentially impact (both positively and negatively) the broader machine learning community and society at large when this technology is deployed? In the applications of this technology, who are the potentially human stakeholders? What are the potential risks to the interest of these stakeholders in the failure modes of this technology? Is there potential to exploit this technology for malicious purposes?",
   "metadata": {
    "cell_id": "00009-00cc1c39-6d05-4298-ad9b-29835d7a6f61",
    "tags": [],
    "deepnote_cell_type": "markdown"
   }
  },
  {
   "cell_type": "markdown",
   "source": "## Code\n* At least one clear working pedagogical example demonstrating the problem the paper is claiming to solve. \n* At lease a bare bones implementation of the model/algorithm/solution (in some cases, you may be able to make assumptions  to simplify the model/algorithm/solution with the approval of your instructor)\n* Demonstration on at least one instance that your implementation solves the problem.\n* Demonstration on at least one instance the failure mode of the model/algorithm/solution, with an explanation for why failure occurred (is the dataset too large? Did you choose a bad hyper parameter?). The point of this is to point out edge cases to the user.\n\n**NOTE**: Look at https://github.com/onefishy/am207_fall19_projects/blob/master/calibrated_uncertainty/calibrated_uncertainty_2/report.ipynb for inspiration regarding how they weaved code into the above sections.",
   "metadata": {
    "cell_id": "00011-76fb851f-bdbc-48a9-be0d-48c3d4ad9dc7",
    "tags": [],
    "deepnote_cell_type": "markdown"
   }
  },
  {
   "cell_type": "markdown",
   "source": "<a style='text-decoration:none;line-height:16px;display:flex;color:#5B5B62;padding:10px;justify-content:end;' href='https://deepnote.com?utm_source=created-in-deepnote-cell&projectId=80cb1556-c762-4c6a-89b8-6410c844af03' target=\"_blank\">\n<img alt='Created in deepnote.com' style='display:inline;max-height:16px;margin:0px;margin-right:7.5px;' src='data:image/svg+xml;base64,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' > </img>\nCreated in <span style='font-weight:600;margin-left:4px;'>Deepnote</span></a>",
   "metadata": {
    "tags": [],
    "created_in_deepnote_cell": true,
    "deepnote_cell_type": "markdown"
   }
  }
 ],
 "nbformat": 4,
 "nbformat_minor": 4,
 "metadata": {
  "deepnote": {
   "is_reactive": false
  },
  "deepnote_execution_queue": [],
  "deepnote_notebook_id": "e72c7ba7-758b-4ca0-8238-b51cffa42677",
  "interpreter": {
   "hash": "155e20831d8ddcd09d5f2e2b0407ff00a756432166f0ea923f961b2fa55a6b90"
  },
  "kernelspec": {
   "display_name": "Python 3 (ipykernel)",
   "language": "python",
   "name": "python3"
  },
  "language_info": {
   "codemirror_mode": {
    "name": "ipython",
    "version": 3
   },
   "file_extension": ".py",
   "mimetype": "text/x-python",
   "name": "python",
   "nbconvert_exporter": "python",
   "pygments_lexer": "ipython3",
   "version": "3.9.8"
  }
 }
}